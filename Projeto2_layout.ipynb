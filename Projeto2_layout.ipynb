{
 "cells": [
  {
   "cell_type": "markdown",
   "metadata": {},
   "source": [
    "# Projeto 2 - Ciência dos Dados"
   ]
  },
  {
   "cell_type": "markdown",
   "metadata": {},
   "source": [
    "Nome: Luiz Felipe Domingues Valente\n",
    "\n",
    "Nome: João Guilherme Cintra de Freitas Almeida"
   ]
  },
  {
   "cell_type": "markdown",
   "metadata": {},
   "source": [
    "Serão permitidos grupos de três pessoas, mas com uma rubrica mais exigente. Grupos deste tamanho precisarão fazer um questionário de avaliação de trabalho em equipe"
   ]
  },
  {
   "cell_type": "markdown",
   "metadata": {},
   "source": [
    "___\n",
    "# Classificador automático de sentimento\n"
   ]
  },
  {
   "cell_type": "markdown",
   "metadata": {},
   "source": [
    "## Preparando o ambiente no jupyter:"
   ]
  },
  {
   "cell_type": "code",
<<<<<<< HEAD
   "execution_count": 37,
=======
<<<<<<< HEAD
   "execution_count": 2,
=======
   "execution_count": 186,
>>>>>>> 1f7073a9273a2e768af4ded0c6f03cfddbf3b8ef
>>>>>>> 7c317f76f9daf178670e0b616a82d92f36a81468
   "metadata": {},
   "outputs": [],
   "source": [
    "%%capture\n",
    "\n",
    "#Instalando o tweepy\n",
    "!pip install tweepy\n",
    "!pip install emoji"
   ]
  },
  {
   "cell_type": "code",
<<<<<<< HEAD
   "execution_count": 38,
=======
<<<<<<< HEAD
<<<<<<< HEAD
   "execution_count": 3,
=======
   "execution_count": 9,
>>>>>>> 7d6475bb49b6986b495f156cfc7463a4eb500bcb
=======
   "execution_count": 187,
>>>>>>> 1f7073a9273a2e768af4ded0c6f03cfddbf3b8ef
>>>>>>> 7c317f76f9daf178670e0b616a82d92f36a81468
   "metadata": {
    "jupyter": {
     "outputs_hidden": true
    }
   },
   "outputs": [],
   "source": [
    "import tweepy\n",
    "import math\n",
    "import os.path\n",
    "import pandas as pd\n",
    "import json\n",
    "from random import shuffle\n",
    "import numpy as np\n",
    "import re \n",
    "from emoji import UNICODE_EMOJI"
   ]
  },
  {
   "cell_type": "markdown",
   "metadata": {},
   "source": [
    "___\n",
    "## Autenticando no  Twitter\n",
    "\n",
    "* Conta: ***[Preencha aqui o id da sua conta. Ex: @fulano ]***"
   ]
  },
  {
   "cell_type": "code",
<<<<<<< HEAD
   "execution_count": 39,
=======
<<<<<<< HEAD
<<<<<<< HEAD
   "execution_count": 4,
=======
   "execution_count": 10,
>>>>>>> 7d6475bb49b6986b495f156cfc7463a4eb500bcb
=======
   "execution_count": 188,
>>>>>>> 1f7073a9273a2e768af4ded0c6f03cfddbf3b8ef
>>>>>>> 7c317f76f9daf178670e0b616a82d92f36a81468
   "metadata": {
    "jupyter": {
     "outputs_hidden": true
    }
   },
   "outputs": [],
   "source": [
    "#Dados de autenticação do twitter:\n",
    "\n",
    "# Coloque aqui o identificador da conta no twitter: @jofenina\n",
    "\n",
    "#leitura do arquivo no formato JSON\n",
    "# with open('auth.pass') as fp:    \n",
    "#     data = json.load(fp)\n",
    "\n",
    "#Configurando a biblioteca. Não modificar\n",
    "# auth = tweepy.OAuthHandler(data['consumer_key'], data['consumer_secret'])\n",
    "# auth.set_access_token(data['access_token'], data['access_token_secret'])"
   ]
  },
  {
   "cell_type": "markdown",
   "metadata": {},
   "source": [
    "___\n",
    "## Etapas do projeto:"
   ]
  },
  {
   "cell_type": "markdown",
   "metadata": {},
   "source": [
    "### Escolha de um produto e coleta das mensagens\n"
   ]
  },
  {
   "cell_type": "code",
<<<<<<< HEAD
   "execution_count": 40,
=======
<<<<<<< HEAD
<<<<<<< HEAD
   "execution_count": 5,
=======
   "execution_count": 11,
>>>>>>> 7d6475bb49b6986b495f156cfc7463a4eb500bcb
=======
   "execution_count": 189,
>>>>>>> 1f7073a9273a2e768af4ded0c6f03cfddbf3b8ef
>>>>>>> 7c317f76f9daf178670e0b616a82d92f36a81468
   "metadata": {
    "jupyter": {
     "outputs_hidden": true
    }
   },
   "outputs": [],
   "source": [
    "#Produto escolhido:\n",
    "produto = 'snickers'\n",
    "\n",
    "#Quantidade mínima de mensagens capturadas:\n",
    "n = 500\n",
    "#Quantidade mínima de mensagens para a base de treinamento:\n",
    "t = 300\n",
    "\n",
    "#Filtro de língua, escolha uma na tabela ISO 639-1.\n",
    "lang = 'pt'"
   ]
  },
  {
   "cell_type": "markdown",
   "metadata": {},
   "source": [
    "Capturando os dados do twitter:"
   ]
  },
  {
   "cell_type": "code",
<<<<<<< HEAD
   "execution_count": 41,
=======
<<<<<<< HEAD
<<<<<<< HEAD
   "execution_count": 6,
=======
   "execution_count": 12,
>>>>>>> 7d6475bb49b6986b495f156cfc7463a4eb500bcb
=======
   "execution_count": 190,
>>>>>>> 1f7073a9273a2e768af4ded0c6f03cfddbf3b8ef
>>>>>>> 7c317f76f9daf178670e0b616a82d92f36a81468
   "metadata": {
    "jupyter": {
     "outputs_hidden": true
    }
   },
   "outputs": [],
   "source": [
    "#Cria um objeto para a captura\n",
    "# api = tweepy.API(auth)\n",
    "\n",
    "#Inicia a captura, para mais detalhes: ver a documentação do tweepy\n",
    "# i = 1\n",
    "# msgs = []\n",
    "# for msg in tweepy.Cursor(api.search, q=produto, lang=lang, tweet_mode=\"extended\").items():    \n",
    "#     msgs.append(msg.full_text.lower())\n",
    "#     i += 1\n",
    "#     if i > n:\n",
    "#         break\n",
    "\n",
    "#Embaralhando as mensagens para reduzir um possível viés\n",
    "# shuffle(msgs)"
   ]
  },
  {
   "cell_type": "markdown",
   "metadata": {},
   "source": [
    "Salvando os dados em uma planilha Excel:"
   ]
  },
  {
   "cell_type": "code",
<<<<<<< HEAD
   "execution_count": 42,
=======
<<<<<<< HEAD
<<<<<<< HEAD
   "execution_count": 7,
=======
   "execution_count": 13,
>>>>>>> 7d6475bb49b6986b495f156cfc7463a4eb500bcb
=======
   "execution_count": 191,
>>>>>>> 1f7073a9273a2e768af4ded0c6f03cfddbf3b8ef
>>>>>>> 7c317f76f9daf178670e0b616a82d92f36a81468
   "metadata": {
    "jupyter": {
     "outputs_hidden": true
    }
   },
   "outputs": [],
   "source": [
    "#Verifica se o arquivo não existe para não substituir um conjunto pronto\n",
    "# if not os.path.isfile('./{0}.xlsx'.format(produto)):\n",
    "    \n",
    "    #Abre o arquivo para escrita\n",
    "#     writer = pd.ExcelWriter('{0}.xlsx'.format(produto))\n",
    "\n",
    "    #divide o conjunto de mensagens em duas planilhas\n",
    "#     dft = pd.DataFrame({'Treinamento' : pd.Series(msgs[:t])})\n",
    "#     dft.to_excel(excel_writer = writer, sheet_name = 'Treinamento', index = False)\n",
    "\n",
    "#     dfc = pd.DataFrame({'Teste' : pd.Series(msgs[t:])})\n",
    "#     dfc.to_excel(excel_writer = writer, sheet_name = 'Teste', index = False)\n",
    "\n",
    "    #fecha o arquivo\n",
    "#     writer.save()"
   ]
  },
  {
   "cell_type": "markdown",
   "metadata": {},
   "source": [
    "___\n",
    "### Montando o Classificador Naive-Bayes\n",
    "\n",
    "Considerando apenas as mensagens da planilha Treinamento, ensine  seu classificador."
   ]
  },
  {
   "cell_type": "markdown",
   "metadata": {},
   "source": [
    "# Limpeza"
   ]
  },
  {
   "cell_type": "code",
<<<<<<< HEAD
   "execution_count": 115,
=======
<<<<<<< HEAD
<<<<<<< HEAD
   "execution_count": 8,
=======
   "execution_count": 14,
>>>>>>> 7d6475bb49b6986b495f156cfc7463a4eb500bcb
=======
   "execution_count": 115,
=======
   "execution_count": 192,
>>>>>>> f300117d8d9440750985730da7c81346b8411097
>>>>>>> 1f7073a9273a2e768af4ded0c6f03cfddbf3b8ef
>>>>>>> 7c317f76f9daf178670e0b616a82d92f36a81468
   "metadata": {},
   "outputs": [
    {
     "data": {
      "text/html": [
       "<div>\n",
       "<style scoped>\n",
       "    .dataframe tbody tr th:only-of-type {\n",
       "        vertical-align: middle;\n",
       "    }\n",
       "\n",
       "    .dataframe tbody tr th {\n",
       "        vertical-align: top;\n",
       "    }\n",
       "\n",
       "    .dataframe thead th {\n",
       "        text-align: right;\n",
       "    }\n",
       "</style>\n",
       "<table border=\"1\" class=\"dataframe\">\n",
       "  <thead>\n",
       "    <tr style=\"text-align: right;\">\n",
       "      <th></th>\n",
       "      <th>Treinamento</th>\n",
       "      <th>Relevância</th>\n",
       "    </tr>\n",
       "  </thead>\n",
       "  <tbody>\n",
       "    <tr>\n",
       "      <th>0</th>\n",
       "      <td>@tiagoatoc nunca pensei que me mandasses comer...</td>\n",
       "      <td>0</td>\n",
       "    </tr>\n",
       "    <tr>\n",
       "      <th>1</th>\n",
       "      <td>credo q eu acordei sem paciência, e já to come...</td>\n",
       "      <td>0</td>\n",
       "    </tr>\n",
       "    <tr>\n",
       "      <th>2</th>\n",
       "      <td>samyra me deu batata frita com cheddar e bacon...</td>\n",
       "      <td>1</td>\n",
       "    </tr>\n",
       "    <tr>\n",
       "      <th>3</th>\n",
       "      <td>crlh acabei de descobrir q tem sorvete de snic...</td>\n",
       "      <td>1</td>\n",
       "    </tr>\n",
       "    <tr>\n",
       "      <th>4</th>\n",
       "      <td>@yenexiel ninguém compra snickers pra mim quan...</td>\n",
       "      <td>0</td>\n",
       "    </tr>\n",
       "  </tbody>\n",
       "</table>\n",
       "</div>"
      ],
      "text/plain": [
       "                                         Treinamento  Relevância\n",
       "0  @tiagoatoc nunca pensei que me mandasses comer...           0\n",
       "1  credo q eu acordei sem paciência, e já to come...           0\n",
       "2  samyra me deu batata frita com cheddar e bacon...           1\n",
       "3  crlh acabei de descobrir q tem sorvete de snic...           1\n",
       "4  @yenexiel ninguém compra snickers pra mim quan...           0"
      ]
     },
<<<<<<< HEAD
     "execution_count": 115,
=======
<<<<<<< HEAD
<<<<<<< HEAD
     "execution_count": 8,
=======
     "execution_count": 14,
>>>>>>> 7d6475bb49b6986b495f156cfc7463a4eb500bcb
=======
     "execution_count": 115,
=======
     "execution_count": 192,
>>>>>>> f300117d8d9440750985730da7c81346b8411097
>>>>>>> 1f7073a9273a2e768af4ded0c6f03cfddbf3b8ef
>>>>>>> 7c317f76f9daf178670e0b616a82d92f36a81468
     "metadata": {},
     "output_type": "execute_result"
    }
   ],
   "source": [
    "tweets_tr_sujos = pd.read_excel(\"snickers.xlsx\")\n",
    "tweets_tr_sujos.head()"
   ]
  },
  {
   "cell_type": "code",
<<<<<<< HEAD
   "execution_count": 116,
=======
<<<<<<< HEAD
<<<<<<< HEAD
   "execution_count": 9,
=======
   "execution_count": 15,
>>>>>>> 7d6475bb49b6986b495f156cfc7463a4eb500bcb
=======
   "execution_count": 116,
=======
   "execution_count": 193,
>>>>>>> f300117d8d9440750985730da7c81346b8411097
>>>>>>> 1f7073a9273a2e768af4ded0c6f03cfddbf3b8ef
>>>>>>> 7c317f76f9daf178670e0b616a82d92f36a81468
   "metadata": {},
   "outputs": [
    {
     "data": {
      "text/plain": [
       "0    @tiagoatoc nunca pensei que me mandasses comer...\n",
       "1    credo q eu acordei sem paciência, e já to come...\n",
       "2    samyra me deu batata frita com cheddar e bacon...\n",
       "3    crlh acabei de descobrir q tem sorvete de snic...\n",
       "4    @yenexiel ninguém compra snickers pra mim quan...\n",
       "Name: Treinamento, dtype: object"
      ]
     },
<<<<<<< HEAD
     "execution_count": 116,
=======
<<<<<<< HEAD
<<<<<<< HEAD
     "execution_count": 9,
=======
     "execution_count": 15,
>>>>>>> 7d6475bb49b6986b495f156cfc7463a4eb500bcb
=======
     "execution_count": 116,
=======
     "execution_count": 193,
>>>>>>> f300117d8d9440750985730da7c81346b8411097
>>>>>>> 1f7073a9273a2e768af4ded0c6f03cfddbf3b8ef
>>>>>>> 7c317f76f9daf178670e0b616a82d92f36a81468
     "metadata": {},
     "output_type": "execute_result"
    }
   ],
   "source": [
    "treinamento = tweets_tr_sujos.loc[:, \"Treinamento\"]\n",
    "rel=tweets_tr_sujos.loc[:, \"Relevância\"]\n",
    "treinamento.head()"
   ]
  },
  {
   "cell_type": "code",
<<<<<<< HEAD
   "execution_count": 117,
=======
<<<<<<< HEAD
<<<<<<< HEAD
   "execution_count": 10,
=======
   "execution_count": 16,
>>>>>>> 7d6475bb49b6986b495f156cfc7463a4eb500bcb
=======
   "execution_count": 117,
=======
   "execution_count": 194,
>>>>>>> f300117d8d9440750985730da7c81346b8411097
>>>>>>> 1f7073a9273a2e768af4ded0c6f03cfddbf3b8ef
>>>>>>> 7c317f76f9daf178670e0b616a82d92f36a81468
   "metadata": {},
   "outputs": [],
   "source": [
    "def cleanup(text):\n",
    "    \n",
    "#  Limpeza de caracteres\n",
    "\n",
    "    punctuation = '[!\\-.:?;@#$%&*_1234567890]'\n",
    "    pattern = re.compile(punctuation)\n",
    "    text_subbed = re.sub(pattern, ' ', text)\n",
    "    return text_subbed    "
   ]
  },
  {
   "cell_type": "code",
<<<<<<< HEAD
   "execution_count": 118,
=======
<<<<<<< HEAD
<<<<<<< HEAD
   "execution_count": 11,
=======
   "execution_count": 17,
>>>>>>> 7d6475bb49b6986b495f156cfc7463a4eb500bcb
=======
   "execution_count": 118,
=======
   "execution_count": 195,
>>>>>>> f300117d8d9440750985730da7c81346b8411097
>>>>>>> 1f7073a9273a2e768af4ded0c6f03cfddbf3b8ef
>>>>>>> 7c317f76f9daf178670e0b616a82d92f36a81468
   "metadata": {},
   "outputs": [
    {
     "data": {
      "text/plain": [
       "['tiagoatoc nunca pensei que me mandasses comer snickers antes de dormir sinceramente',\n",
       " 'credo q eu acordei sem paciência, e já to comendo um snickers de café da manhã',\n",
       " 'samyra me deu batata frita com cheddar e bacon, e evelyn me deu snickers, amo minhas amigas',\n",
       " 'crlh acabei de descobrir q tem sorvete de snickers eu preciso pra ontem',\n",
       " 'yenexiel ninguém compra snickers pra mim quando tô triste',\n",
       " 'se tu roubar uma birosca dentro da favela os cara da firma de dá um sapeca e tu leva tiro nas mãos o dimenor chicoteado deu sorte mas ainda assim saiu caro esse snickers 😂 https //t co/pirvh7zgb8',\n",
       " 'rt thaii_xx sério, o anúncio da snickers no yt tá mt chato, eles fazem o bgl pra vender e na real todo mundo vai é ficar c raiva do choco…',\n",
       " 'rt amandinhavr eu esperando a propaganda insuportável de snickers acabar de passar no vídeo https //t co/d0zqzsmpgu',\n",
       " 'não aguento mais esses anúncios da snickers, nao da nem pra pular',\n",
       " 'a dor do preço do snickers ter aumentado']"
      ]
     },
<<<<<<< HEAD
     "execution_count": 118,
=======
<<<<<<< HEAD
<<<<<<< HEAD
     "execution_count": 11,
=======
     "execution_count": 17,
>>>>>>> 7d6475bb49b6986b495f156cfc7463a4eb500bcb
=======
     "execution_count": 118,
=======
     "execution_count": 195,
>>>>>>> f300117d8d9440750985730da7c81346b8411097
>>>>>>> 1f7073a9273a2e768af4ded0c6f03cfddbf3b8ef
>>>>>>> 7c317f76f9daf178670e0b616a82d92f36a81468
     "metadata": {},
     "output_type": "execute_result"
    }
   ],
   "source": [
    "t_limpos1 = []\n",
    "t_limpos2 = []\n",
    "t_limpos = []\n",
    "for linha in treinamento:\n",
    "    b=linha.lower()\n",
    "    t_limpos1.append(cleanup(b))\n",
    "for e in t_limpos1:\n",
    "    a = e.strip()\n",
    "    t_limpos2.append(a)\n",
    "for s in t_limpos2:\n",
    "    z = ' '.join(s.split())\n",
    "    t_limpos.append(z)\n",
    "t_limpos[0:10]"
   ]
  },
  {
   "cell_type": "markdown",
   "metadata": {},
   "source": [
    "# Espaça emoji e texto limpo"
   ]
  },
  {
   "cell_type": "code",
   "execution_count": 134,
   "metadata": {},
   "outputs": [],
   "source": [
    "# search your emoji\n",
    "def is_emoji(s):\n",
    "    return s in UNICODE_EMOJI\n",
    "\n",
    "# add space near your emoji\n",
    "def add_space(text):\n",
    "    return ''.join(' ' + char if is_emoji(char) else char for char in text).strip()\n",
    "\n",
    "results=[add_space(text) for text in t_limpos]\n",
    "\n"
   ]
  },
  {
   "cell_type": "markdown",
   "metadata": {},
   "source": [
    "# Lista de palavras"
   ]
  },
  {
   "cell_type": "code",
   "execution_count": 127,
   "metadata": {},
   "outputs": [],
   "source": [
    "lista_palavras = []\n",
    "for pepe in results:\n",
    "    lista_palavras += pepe.split()\n"
   ]
  },
  {
   "cell_type": "code",
   "execution_count": 121,
   "metadata": {},
   "outputs": [
    {
     "data": {
      "text/plain": [
       "snickers    0.060292\n",
       "de          0.031581\n",
       "e           0.026281\n",
       "um          0.023631\n",
       "eu          0.021864\n",
       "dtype: float64"
      ]
     },
     "execution_count": 121,
     "metadata": {},
     "output_type": "execute_result"
    }
   ],
   "source": [
    "banana = pd.Series(lista_palavras)\n",
    "p_palavras = banana.value_counts(True)\n",
    "p_palavras.head()\n"
   ]
  },
  {
   "cell_type": "markdown",
   "metadata": {},
   "source": [
    "# Tabela com limpeza e relevância"
   ]
  },
  {
   "cell_type": "code",
<<<<<<< HEAD
   "execution_count": 111,
=======
<<<<<<< HEAD
<<<<<<< HEAD
   "execution_count": 12,
=======
   "execution_count": 20,
>>>>>>> 7d6475bb49b6986b495f156cfc7463a4eb500bcb
=======
   "execution_count": 111,
=======
   "execution_count": 197,
>>>>>>> f300117d8d9440750985730da7c81346b8411097
>>>>>>> 1f7073a9273a2e768af4ded0c6f03cfddbf3b8ef
>>>>>>> 7c317f76f9daf178670e0b616a82d92f36a81468
   "metadata": {},
   "outputs": [
    {
     "data": {
      "text/html": [
       "<div>\n",
       "<style scoped>\n",
       "    .dataframe tbody tr th:only-of-type {\n",
       "        vertical-align: middle;\n",
       "    }\n",
       "\n",
       "    .dataframe tbody tr th {\n",
       "        vertical-align: top;\n",
       "    }\n",
       "\n",
       "    .dataframe thead th {\n",
       "        text-align: right;\n",
       "    }\n",
       "</style>\n",
       "<table border=\"1\" class=\"dataframe\">\n",
       "  <thead>\n",
       "    <tr style=\"text-align: right;\">\n",
       "      <th></th>\n",
       "      <th>Treinamento</th>\n",
       "      <th>Relevância</th>\n",
       "    </tr>\n",
       "  </thead>\n",
       "  <tbody>\n",
       "    <tr>\n",
       "      <th>0</th>\n",
       "      <td>tiagoatoc nunca pensei que me mandasses comer ...</td>\n",
       "      <td>0</td>\n",
       "    </tr>\n",
       "    <tr>\n",
       "      <th>1</th>\n",
       "      <td>credo q eu acordei sem paciência, e já to come...</td>\n",
       "      <td>0</td>\n",
       "    </tr>\n",
       "    <tr>\n",
       "      <th>2</th>\n",
       "      <td>samyra me deu batata frita com cheddar e bacon...</td>\n",
       "      <td>1</td>\n",
       "    </tr>\n",
       "    <tr>\n",
       "      <th>3</th>\n",
       "      <td>crlh acabei de descobrir q tem sorvete de snic...</td>\n",
       "      <td>1</td>\n",
       "    </tr>\n",
       "    <tr>\n",
       "      <th>4</th>\n",
       "      <td>yenexiel ninguém compra snickers pra mim quand...</td>\n",
       "      <td>0</td>\n",
       "    </tr>\n",
       "  </tbody>\n",
       "</table>\n",
       "</div>"
      ],
      "text/plain": [
       "                                         Treinamento  Relevância\n",
       "0  tiagoatoc nunca pensei que me mandasses comer ...           0\n",
       "1  credo q eu acordei sem paciência, e já to come...           0\n",
       "2  samyra me deu batata frita com cheddar e bacon...           1\n",
       "3  crlh acabei de descobrir q tem sorvete de snic...           1\n",
       "4  yenexiel ninguém compra snickers pra mim quand...           0"
      ]
     },
<<<<<<< HEAD
     "execution_count": 111,
=======
<<<<<<< HEAD
<<<<<<< HEAD
     "execution_count": 12,
=======
     "execution_count": 20,
>>>>>>> 7d6475bb49b6986b495f156cfc7463a4eb500bcb
=======
     "execution_count": 111,
=======
     "execution_count": 197,
>>>>>>> f300117d8d9440750985730da7c81346b8411097
>>>>>>> 1f7073a9273a2e768af4ded0c6f03cfddbf3b8ef
>>>>>>> 7c317f76f9daf178670e0b616a82d92f36a81468
     "metadata": {},
     "output_type": "execute_result"
    }
   ],
   "source": [
    "t_tr = pd.DataFrame({\"Treinamento\": results,\"Relevância\": rel})\n",
    "t_tr.head()"
   ]
  },
  {
   "cell_type": "markdown",
   "metadata": {},
   "source": [
    "# Tweets Relevantes Limpos e frequência de suas Palavras"
   ]
  },
  {
   "cell_type": "code",
<<<<<<< HEAD
   "execution_count": 132,
=======
<<<<<<< HEAD
<<<<<<< HEAD
   "execution_count": 13,
=======
   "execution_count": 21,
>>>>>>> 7d6475bb49b6986b495f156cfc7463a4eb500bcb
=======
   "execution_count": 132,
=======
   "execution_count": 198,
>>>>>>> f300117d8d9440750985730da7c81346b8411097
>>>>>>> 1f7073a9273a2e768af4ded0c6f03cfddbf3b8ef
>>>>>>> 7c317f76f9daf178670e0b616a82d92f36a81468
   "metadata": {},
   "outputs": [
    {
     "data": {
      "text/html": [
       "<div>\n",
       "<style scoped>\n",
       "    .dataframe tbody tr th:only-of-type {\n",
       "        vertical-align: middle;\n",
       "    }\n",
       "\n",
       "    .dataframe tbody tr th {\n",
       "        vertical-align: top;\n",
       "    }\n",
       "\n",
       "    .dataframe thead th {\n",
       "        text-align: right;\n",
       "    }\n",
       "</style>\n",
       "<table border=\"1\" class=\"dataframe\">\n",
       "  <thead>\n",
       "    <tr style=\"text-align: right;\">\n",
       "      <th></th>\n",
       "      <th>Treinamento</th>\n",
       "      <th>Relevância</th>\n",
       "    </tr>\n",
       "  </thead>\n",
       "  <tbody>\n",
       "    <tr>\n",
       "      <th>2</th>\n",
       "      <td>samyra me deu batata frita com cheddar e bacon...</td>\n",
       "      <td>1</td>\n",
       "    </tr>\n",
       "    <tr>\n",
       "      <th>3</th>\n",
       "      <td>crlh acabei de descobrir q tem sorvete de snic...</td>\n",
       "      <td>1</td>\n",
       "    </tr>\n",
       "    <tr>\n",
       "      <th>6</th>\n",
       "      <td>rt thaii xx sério, o anúncio da snickers no yt...</td>\n",
       "      <td>1</td>\n",
       "    </tr>\n",
       "    <tr>\n",
       "      <th>7</th>\n",
       "      <td>rt amandinhavr eu esperando a propaganda insup...</td>\n",
       "      <td>1</td>\n",
       "    </tr>\n",
       "    <tr>\n",
       "      <th>8</th>\n",
       "      <td>não aguento mais esses anúncios da snickers, n...</td>\n",
       "      <td>1</td>\n",
       "    </tr>\n",
       "  </tbody>\n",
       "</table>\n",
       "</div>"
      ],
      "text/plain": [
       "                                         Treinamento  Relevância\n",
       "2  samyra me deu batata frita com cheddar e bacon...           1\n",
       "3  crlh acabei de descobrir q tem sorvete de snic...           1\n",
       "6  rt thaii xx sério, o anúncio da snickers no yt...           1\n",
       "7  rt amandinhavr eu esperando a propaganda insup...           1\n",
       "8  não aguento mais esses anúncios da snickers, n...           1"
      ]
     },
<<<<<<< HEAD
=======
<<<<<<< HEAD
<<<<<<< HEAD
     "execution_count": 13,
=======
     "execution_count": 21,
>>>>>>> 7d6475bb49b6986b495f156cfc7463a4eb500bcb
=======
>>>>>>> 7c317f76f9daf178670e0b616a82d92f36a81468
     "execution_count": 132,
     "metadata": {},
     "output_type": "execute_result"
    },
    {
     "data": {
      "text/plain": [
       "172"
      ]
     },
     "execution_count": 132,
<<<<<<< HEAD
=======
=======
     "execution_count": 198,
>>>>>>> f300117d8d9440750985730da7c81346b8411097
>>>>>>> 1f7073a9273a2e768af4ded0c6f03cfddbf3b8ef
>>>>>>> 7c317f76f9daf178670e0b616a82d92f36a81468
     "metadata": {},
     "output_type": "execute_result"
    }
   ],
   "source": [
    "t_rel= t_tr[(t_tr.Relevância==1)]\n",
    "t_rel.head()\n",
    "len(t_rel)"
   ]
  },
  {
   "cell_type": "code",
<<<<<<< HEAD
   "execution_count": 130,
=======
<<<<<<< HEAD
<<<<<<< HEAD
   "execution_count": 14,
=======
   "execution_count": 22,
>>>>>>> 7d6475bb49b6986b495f156cfc7463a4eb500bcb
=======
   "execution_count": 130,
=======
   "execution_count": 199,
>>>>>>> f300117d8d9440750985730da7c81346b8411097
>>>>>>> 1f7073a9273a2e768af4ded0c6f03cfddbf3b8ef
>>>>>>> 7c317f76f9daf178670e0b616a82d92f36a81468
   "metadata": {},
   "outputs": [
    {
     "data": {
      "text/plain": [
       "0    samyra\n",
       "1        me\n",
       "2       deu\n",
       "3    batata\n",
       "4     frita\n",
       "dtype: object"
      ]
     },
<<<<<<< HEAD
     "execution_count": 130,
=======
<<<<<<< HEAD
<<<<<<< HEAD
     "execution_count": 14,
=======
     "execution_count": 22,
>>>>>>> 7d6475bb49b6986b495f156cfc7463a4eb500bcb
=======
     "execution_count": 130,
=======
     "execution_count": 199,
>>>>>>> f300117d8d9440750985730da7c81346b8411097
>>>>>>> 1f7073a9273a2e768af4ded0c6f03cfddbf3b8ef
>>>>>>> 7c317f76f9daf178670e0b616a82d92f36a81468
     "metadata": {},
     "output_type": "execute_result"
    }
   ],
   "source": [
    "serie_tweets = ' '.join(t_rel.loc[:,\"Treinamento\"])\n",
    "a = pd.Series(serie_tweets.split())\n",
    "a.head()"
   ]
  },
  {
   "cell_type": "code",
<<<<<<< HEAD
   "execution_count": 37,
=======
<<<<<<< HEAD
<<<<<<< HEAD
   "execution_count": 15,
=======
   "execution_count": 23,
>>>>>>> 7d6475bb49b6986b495f156cfc7463a4eb500bcb
=======
   "execution_count": 37,
=======
   "execution_count": 200,
>>>>>>> f300117d8d9440750985730da7c81346b8411097
>>>>>>> 1f7073a9273a2e768af4ded0c6f03cfddbf3b8ef
>>>>>>> 7c317f76f9daf178670e0b616a82d92f36a81468
   "metadata": {},
   "outputs": [
    {
     "data": {
      "text/plain": [
       "snickers    166\n",
       "de           92\n",
       "eu           69\n",
       "do           62\n",
       "e            55\n",
       "dtype: int64"
      ]
     },
<<<<<<< HEAD
     "execution_count": 37,
=======
<<<<<<< HEAD
<<<<<<< HEAD
     "execution_count": 15,
=======
     "execution_count": 23,
>>>>>>> 7d6475bb49b6986b495f156cfc7463a4eb500bcb
=======
     "execution_count": 37,
=======
     "execution_count": 200,
>>>>>>> f300117d8d9440750985730da7c81346b8411097
>>>>>>> 1f7073a9273a2e768af4ded0c6f03cfddbf3b8ef
>>>>>>> 7c317f76f9daf178670e0b616a82d92f36a81468
     "metadata": {},
     "output_type": "execute_result"
    }
   ],
   "source": [
    "a.value_counts().head()"
   ]
  },
  {
   "cell_type": "code",
   "execution_count": 165,
   "metadata": {},
   "outputs": [
    {
     "data": {
      "text/plain": [
       "2508"
      ]
     },
     "execution_count": 165,
     "metadata": {},
     "output_type": "execute_result"
    }
   ],
   "source": [
    "tabela_tweets_relativar = a.value_counts()\n",
    "tabela_tweets_relativar"
   ]
  },
  {
   "cell_type": "code",
   "execution_count": 147,
   "metadata": {},
   "outputs": [
    {
     "data": {
      "text/plain": [
       "0.5733333333333334"
      ]
     },
     "execution_count": 147,
     "metadata": {},
     "output_type": "execute_result"
    },
    {
     "data": {
      "text/plain": [
       "0.4266666666666667"
      ]
     },
     "execution_count": 147,
     "metadata": {},
     "output_type": "execute_result"
    }
   ],
   "source": [
    "# Probabilidade de o tweet ser relevante:\n",
    "prob_t_relevante = 172/300\n",
    "prob_t_relevante\n",
    "# Probabilidade de o tweet ser irrelevante:\n",
    "prob_t_irrelevante = 128/300\n",
    "prob_t_irrelevante"
   ]
  },
  {
   "cell_type": "code",
<<<<<<< HEAD
=======
<<<<<<< HEAD
   "execution_count": 25,
<<<<<<< HEAD
=======
<<<<<<< HEAD
>>>>>>> 7c317f76f9daf178670e0b616a82d92f36a81468
   "execution_count": 148,
>>>>>>> 1f7073a9273a2e768af4ded0c6f03cfddbf3b8ef
   "metadata": {},
   "outputs": [
    {
     "data": {
      "text/plain": [
<<<<<<< HEAD
       "{'amigas': -46.13376843222214,\n",
       " 'ontem': -31.47816086843216,\n",
       " 'choco…': -72.2972640101915,\n",
       " 'co/d0zqzsmpgu': -33.70801821633679,\n",
       " 'pular': -45.43582573513992,\n",
       " 'aumentado': -19.435486280793544,\n",
       " 'vezes': -41.39833315419738,\n",
       " 'de…': -58.884815143948266,\n",
       " 'chaaato': -8.982750359768444,\n",
       " 'saco': -47.215128104866864,\n",
       " 'youtube': -16.463120841852405,\n",
       " 'snickers': -33.73624746062496,\n",
       " 'chocolate': -74.67445837683165,\n",
       " 'algo': -25.589486095158435,\n",
       " '❤': -13.030225689621691,\n",
       " '🍫🥜': -14.412728728112882,\n",
       " 'tudo': -51.15472294864763,\n",
       " 'bom': -8.195358452649888,\n",
       " 'eu': -21.612747879232504,\n",
       " 'quarto': -38.68120776942926,\n",
       " '😫🤧😔': -12.357459639470669,\n",
       " '😭😭😭😭😭😭😭': -24.903259948655617,\n",
       " 'co/mxiw9lcrdt': -42.84483034400397,\n",
       " 'kkk': -24.50278321224183,\n",
       " 'nada': -24.62189240518941,\n",
       " 'terapia': -63.83456975014921,\n",
       " 'gata': -87.93307991229406,\n",
       " 'mais': -54.83423254968933,\n",
       " 'dá': -18.19752522925858,\n",
       " 'msm': -37.772044502481904,\n",
       " '😒': -58.110605781625964,\n",
       " 'melhor': -21.507725405514076,\n",
       " 'cu': -88.51440497078818,\n",
       " 'feliz': -18.669448131162135,\n",
       " 'chega': -132.26774413761282,\n",
       " 'caralho': -23.30470327970531,\n",
       " 'produto': -51.426025582093644,\n",
       " '❤️❤️❤️': -31.684189696230675,\n",
       " '💗': -54.702805388420295,\n",
       " 'vsf': -21.659998015846785,\n",
       " 'desconheço': -21.284082910949945,\n",
       " 'plmdds': -24.469500013094514,\n",
       " 'tranquiliade': -23.299422245136494,\n",
       " 'co/azrvpgimhd': -76.57014511767512,\n",
       " 'gosto': -21.054602107442037,\n",
       " 'yt': -20.755589658965555,\n",
       " 'amém': -15.305453199632991,\n",
       " 'obrigada': -21.376816983303865,\n",
       " 'socorrrro': -25.7569771824522,\n",
       " 'co/qapqqjzdvv': -59.90476199609287,\n",
       " 'demais': -12.656354625941102,\n",
       " 'agora': -10.19492120672128,\n",
       " 'decidindo': -33.07211608596362,\n",
       " 'chatooo': -49.571854252721934,\n",
       " '🙄': -56.46117287533218,\n",
       " '😁😁': -20.74508632130868,\n",
       " '🥴🥴🥴😔💕': -96.62308751733072,\n",
       " 'existe': -20.025033449586115,\n",
       " '👍👍👍': -49.1595665793267,\n",
       " '😭': -24.262205500632408,\n",
       " 'espinhas': -26.547553290649553,\n",
       " 'abomino': -28.776002244145253,\n",
       " 'exaltei': -134.62733394569244,\n",
       " 'co/0h90sa0leq': -54.193057542353074,\n",
       " 'chorei': -36.929801407121126,\n",
       " 'serio': -44.52605482651441,\n",
       " 'sagu': -71.49007163287537,\n",
       " 'kk': -43.07748189707585,\n",
       " 'infernooooo': -37.54233897545732,\n",
       " 'importa': -25.988350311178372,\n",
       " 'kakaak': -61.26384047232415,\n",
       " 'também)': -31.296299191487275,\n",
       " 'incrível': -14.340801003191903,\n",
       " 'bosta': -13.564819710764796,\n",
       " 'perfeita': -17.989723907562198,\n",
       " 'vsfd': -27.490394015732747,\n",
       " 'gula': -35.18709986362321,\n",
       " 'co/kxmi25zyop': -33.385716896250585,\n",
       " 'mundo': -19.107703023479562,\n",
       " 'neguinha': -15.754253178042187,\n",
       " 'co/snk0d23xtv': -27.07394893875707,\n",
       " 'n': -25.468676705773248,\n",
       " 'pf': -21.542843743899073,\n",
       " 'pr…': -60.71013722903911,\n",
       " 'aaaaaaaa': -15.937694907558187,\n",
       " 'comer': -38.968473860055255,\n",
       " 'logo': -65.39391209049722,\n",
       " 'videos': -37.84275056130497,\n",
       " 'co/dkdfr2yloq': -15.470763084590324,\n",
       " 'itapecerica': -58.521687915458166,\n",
       " 'pulaaaaaarrrr': -41.236862659781934,\n",
       " 'parede': -39.38365376561804,\n",
       " 'compra': -37.56058692297199,\n",
       " 'esquerdopatas': -35.16862360021535,\n",
       " 'clima': -46.882913696077296,\n",
       " 'doce': -102.49673207768528,\n",
       " 'dia': -76.18914012570718,\n",
       " 'kkkkkkk': -67.96526537753947,\n",
       " '🤠': -54.25420554534482,\n",
       " 'mim🤤🥰💙': -20.114054373805907,\n",
       " 'propaganda': -38.58010482392406,\n",
       " 'co/qm7gosiile': -44.21101708111435,\n",
       " 'kkkkk': -25.727132235620655,\n",
       " '😭😭😭': -22.268288643766713,\n",
       " '🤪': -38.88762598651109,\n",
       " 'relvoltei': -100.32162697093808,\n",
       " '❤️': -13.886803547319378,\n",
       " 'co/antf6axl4s': -102.99197943035605,\n",
       " 'mermão': -23.30265795695769,\n",
       " '🍫': -30.689673817927726,\n",
       " '😍😍': -11.557469240304478,\n",
       " 'menina': -36.44624125986112}"
      ]
     },
     "execution_count": 25,
     "metadata": {},
     "output_type": "execute_result"
    }
   ],
   "source": [
    "dic_log = {}\n",
    "for frase in t_rel.Treinamento:\n",
    "    frase_d=frase.split()\n",
    "    freq_log = 0 \n",
    "    for palavra in frase_d:\n",
    "        if palavra in tabela_tweets_relativa:\n",
    "            freq_log += np.log10(tabela_tweets_relativa[palavra])\n",
    "    dic_log[palavra] = freq_log\n",
    "dic_log\n"
   ]
  },
  {
   "cell_type": "code",
   "execution_count": 17,
=======
>>>>>>> 7d6475bb49b6986b495f156cfc7463a4eb500bcb
=======
       "snickers    0.036661\n",
       "de          0.020318\n",
       "eu          0.015239\n",
       "do          0.013693\n",
       "e           0.012147\n",
       "dtype: float64"
      ]
     },
     "execution_count": 148,
     "metadata": {},
     "output_type": "execute_result"
    },
    {
     "data": {
      "text/plain": [
       "snickers    0.000012\n",
       "e           0.000007\n",
       "um          0.000006\n",
       "de          0.000006\n",
       "o           0.000005\n",
       "dtype: float64"
      ]
     },
     "execution_count": 148,
     "metadata": {},
     "output_type": "execute_result"
<<<<<<< HEAD
=======
=======
   "execution_count": 203,
>>>>>>> 1f7073a9273a2e768af4ded0c6f03cfddbf3b8ef
   "metadata": {},
   "outputs": [
    {
     "name": "stdout",
     "output_type": "stream",
     "text": [
      "-1.1854090189363211\n",
      "-1.441729279630821\n",
      "-1.5666680162391209\n",
      "-1.6131254174781224\n",
      "-1.6651544174821324\n",
      "-1.6812412373755872\n",
      "-1.7523045932010326\n",
      "-1.8034571156484138\n",
      "-1.825733510359566\n",
      "-1.825733510359566\n",
      "-1.8373153829093813\n",
      "-1.8373153829093813\n",
      "-1.8614490626261007\n",
      "-1.8740381899341212\n",
      "-1.8740381899341212\n",
      "-1.9283958522567137\n",
      "-2.007577098304339\n",
      "-2.0437892709587833\n",
      "-2.0437892709587833\n",
      "-2.06309442615417\n",
      "-2.104487111312395\n",
      "-2.104487111312395\n",
      "-2.1502446018730703\n",
      "-2.2013971243204513\n",
      "-2.2013971243204513\n",
      "-2.229425847920695\n",
      "-2.229425847920695\n",
      "-2.229425847920695\n",
      "-2.259389071298138\n",
      "-2.259389071298138\n",
      "-2.259389071298138\n",
      "-2.259389071298138\n",
      "-2.2915737546695394\n",
      "-2.2915737546695394\n",
      "-2.3263358609287517\n",
      "-2.3263358609287517\n",
      "-2.3263358609287517\n",
      "-2.3263358609287517\n",
      "-2.3263358609287517\n",
      "-2.3641244218181514\n",
      "-2.3641244218181514\n",
      "-2.3641244218181514\n",
      "-2.3641244218181514\n",
      "-2.3641244218181514\n",
      "-2.4512745975370516\n",
      "-2.4512745975370516\n",
      "-2.4512745975370516\n",
      "-2.4512745975370516\n",
      "-2.4512745975370516\n",
      "-2.5024271199844326\n",
      "-2.5024271199844326\n",
      "-2.5024271199844326\n",
      "-2.5024271199844326\n",
      "-2.5024271199844326\n",
      "-2.5024271199844326\n",
      "-2.5024271199844326\n",
      "-2.5024271199844326\n",
      "-2.5604190669621194\n",
      "-2.5604190669621194\n",
      "-2.5604190669621194\n",
      "-2.5604190669621194\n",
      "-2.5604190669621194\n",
      "-2.6273658565927325\n",
      "-2.6273658565927325\n",
      "-2.6273658565927325\n",
      "-2.6273658565927325\n",
      "-2.6273658565927325\n",
      "-2.6273658565927325\n",
      "-2.6273658565927325\n",
      "-2.7065471026403576\n",
      "-2.7065471026403576\n",
      "-2.7065471026403576\n",
      "-2.7065471026403576\n",
      "-2.7065471026403576\n",
      "-2.7065471026403576\n",
      "-2.7065471026403576\n",
      "-2.7065471026403576\n",
      "-2.7065471026403576\n",
      "-2.7065471026403576\n",
      "-2.7065471026403576\n",
      "-2.7065471026403576\n",
      "-2.7065471026403576\n",
      "-2.7065471026403576\n",
      "-2.803457115648414\n",
      "-2.803457115648414\n",
      "-2.803457115648414\n",
      "-2.803457115648414\n",
      "-2.803457115648414\n",
      "-2.803457115648414\n",
      "-2.803457115648414\n",
      "-2.803457115648414\n",
      "-2.803457115648414\n",
      "-2.803457115648414\n",
      "-2.803457115648414\n",
      "-2.803457115648414\n",
      "-2.803457115648414\n",
      "-2.803457115648414\n",
      "-2.803457115648414\n",
      "-2.803457115648414\n",
      "-2.803457115648414\n",
      "-2.803457115648414\n",
      "-2.803457115648414\n",
      "-2.803457115648414\n",
      "-2.803457115648414\n",
      "-2.803457115648414\n",
      "-2.803457115648414\n",
      "-2.803457115648414\n",
      "-2.803457115648414\n",
      "-2.803457115648414\n",
      "-2.803457115648414\n",
      "-2.803457115648414\n",
      "-2.803457115648414\n",
      "-2.803457115648414\n",
      "-2.803457115648414\n",
      "-2.803457115648414\n",
      "-2.803457115648414\n",
      "-2.803457115648414\n",
      "-2.803457115648414\n",
      "-2.803457115648414\n",
      "-2.803457115648414\n",
      "-2.803457115648414\n",
      "-2.9283958522567137\n",
      "-2.9283958522567137\n",
      "-2.9283958522567137\n",
      "-2.9283958522567137\n",
      "-2.9283958522567137\n",
      "-2.9283958522567137\n",
      "-2.9283958522567137\n",
      "-2.9283958522567137\n",
      "-2.9283958522567137\n",
      "-2.9283958522567137\n",
      "-2.9283958522567137\n",
      "-2.9283958522567137\n",
      "-2.9283958522567137\n",
      "-2.9283958522567137\n",
      "-2.9283958522567137\n",
      "-2.9283958522567137\n",
      "-2.9283958522567137\n",
      "-2.9283958522567137\n",
      "-2.9283958522567137\n",
      "-2.9283958522567137\n",
      "-2.9283958522567137\n",
      "-2.9283958522567137\n",
      "-2.9283958522567137\n",
      "-2.9283958522567137\n",
      "-2.9283958522567137\n",
      "-2.9283958522567137\n",
      "-2.9283958522567137\n",
      "-2.9283958522567137\n",
      "-2.9283958522567137\n",
      "-2.9283958522567137\n",
      "-2.9283958522567137\n",
      "-2.9283958522567137\n",
      "-2.9283958522567137\n",
      "-2.9283958522567137\n",
      "-2.9283958522567137\n",
      "-2.9283958522567137\n",
      "-2.9283958522567137\n",
      "-2.9283958522567137\n",
      "-2.9283958522567137\n",
      "-2.9283958522567137\n",
      "-2.9283958522567137\n",
      "-2.9283958522567137\n",
      "-2.9283958522567137\n",
      "-2.9283958522567137\n",
      "-2.9283958522567137\n",
      "-2.9283958522567137\n",
      "-2.9283958522567137\n",
      "-2.9283958522567137\n",
      "-2.9283958522567137\n",
      "-2.9283958522567137\n",
      "-2.9283958522567137\n",
      "-2.9283958522567137\n",
      "-2.9283958522567137\n",
      "-3.104487111312395\n",
      "-3.104487111312395\n",
      "-3.104487111312395\n",
      "-3.104487111312395\n",
      "-3.104487111312395\n",
      "-3.104487111312395\n",
      "-3.104487111312395\n",
      "-3.104487111312395\n",
      "-3.104487111312395\n",
      "-3.104487111312395\n",
      "-3.104487111312395\n",
      "-3.104487111312395\n",
      "-3.104487111312395\n",
      "-3.104487111312395\n",
      "-3.104487111312395\n",
      "-3.104487111312395\n",
      "-3.104487111312395\n",
      "-3.104487111312395\n",
      "-3.104487111312395\n",
      "-3.104487111312395\n",
      "-3.104487111312395\n",
      "-3.104487111312395\n",
      "-3.104487111312395\n",
      "-3.104487111312395\n",
      "-3.104487111312395\n",
      "-3.104487111312395\n",
      "-3.104487111312395\n",
      "-3.104487111312395\n",
      "-3.104487111312395\n",
      "-3.104487111312395\n",
      "-3.104487111312395\n",
      "-3.104487111312395\n",
      "-3.104487111312395\n",
      "-3.104487111312395\n",
      "-3.104487111312395\n",
      "-3.104487111312395\n",
      "-3.104487111312395\n",
      "-3.104487111312395\n",
      "-3.104487111312395\n",
      "-3.104487111312395\n",
      "-3.104487111312395\n",
      "-3.104487111312395\n",
      "-3.104487111312395\n",
      "-3.104487111312395\n",
      "-3.104487111312395\n",
      "-3.104487111312395\n",
      "-3.104487111312395\n",
      "-3.104487111312395\n",
      "-3.104487111312395\n",
      "-3.104487111312395\n",
      "-3.104487111312395\n",
      "-3.104487111312395\n",
      "-3.104487111312395\n",
      "-3.104487111312395\n",
      "-3.104487111312395\n",
      "-3.104487111312395\n",
      "-3.104487111312395\n",
      "-3.104487111312395\n",
      "-3.104487111312395\n",
      "-3.104487111312395\n",
      "-3.104487111312395\n",
      "-3.104487111312395\n",
      "-3.104487111312395\n",
      "-3.104487111312395\n",
      "-3.104487111312395\n",
      "-3.104487111312395\n",
      "-3.104487111312395\n",
      "-3.104487111312395\n",
      "-3.104487111312395\n",
      "-3.104487111312395\n",
      "-3.104487111312395\n",
      "-3.104487111312395\n",
      "-3.104487111312395\n",
      "-3.104487111312395\n",
      "-3.104487111312395\n",
      "-3.104487111312395\n",
      "-3.104487111312395\n",
      "-3.104487111312395\n",
      "-3.104487111312395\n",
      "-3.104487111312395\n",
      "-3.104487111312395\n",
      "-3.104487111312395\n",
      "-3.104487111312395\n",
      "-3.104487111312395\n",
      "-3.104487111312395\n",
      "-3.104487111312395\n",
      "-3.104487111312395\n",
      "-3.104487111312395\n",
      "-3.104487111312395\n",
      "-3.104487111312395\n",
      "-3.104487111312395\n",
      "-3.104487111312395\n",
      "-3.104487111312395\n",
      "-3.104487111312395\n",
      "-3.4055171069763763\n",
      "-3.4055171069763763\n",
      "-3.4055171069763763\n",
      "-3.4055171069763763\n",
      "-3.4055171069763763\n",
      "-3.4055171069763763\n",
      "-3.4055171069763763\n",
      "-3.4055171069763763\n",
      "-3.4055171069763763\n",
      "-3.4055171069763763\n",
      "-3.4055171069763763\n",
      "-3.4055171069763763\n",
      "-3.4055171069763763\n",
      "-3.4055171069763763\n",
      "-3.4055171069763763\n",
      "-3.4055171069763763\n",
      "-3.4055171069763763\n",
      "-3.4055171069763763\n",
      "-3.4055171069763763\n",
      "-3.4055171069763763\n",
      "-3.4055171069763763\n",
      "-3.4055171069763763\n",
      "-3.4055171069763763\n",
      "-3.4055171069763763\n",
      "-3.4055171069763763\n",
      "-3.4055171069763763\n",
      "-3.4055171069763763\n",
      "-3.4055171069763763\n",
      "-3.4055171069763763\n",
      "-3.4055171069763763\n",
      "-3.4055171069763763\n",
      "-3.4055171069763763\n",
      "-3.4055171069763763\n",
      "-3.4055171069763763\n",
      "-3.4055171069763763\n",
      "-3.4055171069763763\n",
      "-3.4055171069763763\n",
      "-3.4055171069763763\n",
      "-3.4055171069763763\n",
      "-3.4055171069763763\n",
      "-3.4055171069763763\n",
      "-3.4055171069763763\n",
      "-3.4055171069763763\n",
      "-3.4055171069763763\n",
      "-3.4055171069763763\n",
      "-3.4055171069763763\n",
      "-3.4055171069763763\n",
      "-3.4055171069763763\n",
      "-3.4055171069763763\n",
      "-3.4055171069763763\n",
      "-3.4055171069763763\n",
      "-3.4055171069763763\n",
      "-3.4055171069763763\n",
      "-3.4055171069763763\n",
      "-3.4055171069763763\n",
      "-3.4055171069763763\n",
      "-3.4055171069763763\n",
      "-3.4055171069763763\n",
      "-3.4055171069763763\n",
      "-3.4055171069763763\n",
      "-3.4055171069763763\n",
      "-3.4055171069763763\n",
      "-3.4055171069763763\n",
      "-3.4055171069763763\n",
      "-3.4055171069763763\n",
      "-3.4055171069763763\n",
      "-3.4055171069763763\n",
      "-3.4055171069763763\n",
      "-3.4055171069763763\n",
      "-3.4055171069763763\n",
      "-3.4055171069763763\n",
      "-3.4055171069763763\n",
      "-3.4055171069763763\n",
      "-3.4055171069763763\n",
      "-3.4055171069763763\n",
      "-3.4055171069763763\n",
      "-3.4055171069763763\n",
      "-3.4055171069763763\n",
      "-3.4055171069763763\n",
      "-3.4055171069763763\n",
      "-3.4055171069763763\n",
      "-3.4055171069763763\n",
      "-3.4055171069763763\n",
      "-3.4055171069763763\n",
      "-3.4055171069763763\n",
      "-3.4055171069763763\n",
      "-3.4055171069763763\n",
      "-3.4055171069763763\n",
      "-3.4055171069763763\n",
      "-3.4055171069763763\n",
      "-3.4055171069763763\n",
      "-3.4055171069763763\n",
      "-3.4055171069763763\n",
      "-3.4055171069763763\n",
      "-3.4055171069763763\n",
      "-3.4055171069763763\n",
      "-3.4055171069763763\n",
      "-3.4055171069763763\n",
      "-3.4055171069763763\n",
      "-3.4055171069763763\n",
      "-3.4055171069763763\n",
      "-3.4055171069763763\n",
      "-3.4055171069763763\n",
      "-3.4055171069763763\n",
      "-3.4055171069763763\n",
      "-3.4055171069763763\n",
      "-3.4055171069763763\n",
      "-3.4055171069763763\n",
      "-3.4055171069763763\n",
      "-3.4055171069763763\n",
      "-3.4055171069763763\n",
      "-3.4055171069763763\n",
      "-3.4055171069763763\n",
      "-3.4055171069763763\n",
      "-3.4055171069763763\n",
      "-3.4055171069763763\n",
      "-3.4055171069763763\n",
      "-3.4055171069763763\n",
      "-3.4055171069763763\n",
      "-3.4055171069763763\n",
      "-3.4055171069763763\n",
      "-3.4055171069763763\n",
      "-3.4055171069763763\n",
      "-3.4055171069763763\n",
      "-3.4055171069763763\n",
      "-3.4055171069763763\n",
      "-3.4055171069763763\n",
      "-3.4055171069763763\n",
      "-3.4055171069763763\n",
      "-3.4055171069763763\n",
      "-3.4055171069763763\n",
      "-3.4055171069763763\n",
      "-3.4055171069763763\n",
      "-3.4055171069763763\n",
      "-3.4055171069763763\n",
      "-3.4055171069763763\n",
      "-3.4055171069763763\n",
      "-3.4055171069763763\n",
      "-3.4055171069763763\n",
      "-3.4055171069763763\n",
      "-3.4055171069763763\n",
      "-3.4055171069763763\n",
      "-3.4055171069763763\n",
      "-3.4055171069763763\n",
      "-3.4055171069763763\n",
      "-3.4055171069763763\n",
      "-3.4055171069763763\n",
      "-3.4055171069763763\n",
      "-3.4055171069763763\n",
      "-3.4055171069763763\n",
      "-3.4055171069763763\n",
      "-3.4055171069763763\n",
      "-3.4055171069763763\n",
      "-3.4055171069763763\n",
      "-3.4055171069763763\n",
      "-3.4055171069763763\n",
      "-3.4055171069763763\n",
      "-3.4055171069763763\n",
      "-3.4055171069763763\n",
      "-3.4055171069763763\n",
      "-3.4055171069763763\n",
      "-3.4055171069763763\n",
      "-3.4055171069763763\n",
      "-3.4055171069763763\n",
      "-3.4055171069763763\n",
      "-3.4055171069763763\n",
      "-3.4055171069763763\n",
      "-3.4055171069763763\n",
      "-3.4055171069763763\n",
      "-3.4055171069763763\n",
      "-3.4055171069763763\n",
      "-3.4055171069763763\n",
      "-3.4055171069763763\n",
      "-3.4055171069763763\n",
      "-3.4055171069763763\n",
      "-3.4055171069763763\n",
      "-3.4055171069763763\n",
      "-3.4055171069763763\n",
      "-3.4055171069763763\n",
      "-3.4055171069763763\n",
      "-3.4055171069763763\n",
      "-3.4055171069763763\n",
      "-3.4055171069763763\n",
      "-3.4055171069763763\n",
      "-3.4055171069763763\n",
      "-3.4055171069763763\n",
      "-3.4055171069763763\n",
      "-3.4055171069763763\n",
      "-3.4055171069763763\n",
      "-3.4055171069763763\n",
      "-3.4055171069763763\n",
      "-3.4055171069763763\n",
      "-3.4055171069763763\n",
      "-3.4055171069763763\n",
      "-3.4055171069763763\n",
      "-3.4055171069763763\n",
      "-3.4055171069763763\n",
      "-3.4055171069763763\n",
      "-3.4055171069763763\n",
      "-3.4055171069763763\n",
      "-3.4055171069763763\n",
      "-3.4055171069763763\n",
      "-3.4055171069763763\n",
      "-3.4055171069763763\n",
      "-3.4055171069763763\n",
      "-3.4055171069763763\n",
      "-3.4055171069763763\n",
      "-3.4055171069763763\n",
      "-3.4055171069763763\n"
     ]
    },
    {
     "name": "stdout",
     "output_type": "stream",
     "text": [
      "-3.4055171069763763\n",
      "-3.4055171069763763\n",
      "-3.4055171069763763\n",
      "-3.4055171069763763\n",
      "-3.4055171069763763\n",
      "-3.4055171069763763\n",
      "-3.4055171069763763\n",
      "-3.4055171069763763\n",
      "-3.4055171069763763\n",
      "-3.4055171069763763\n",
      "-3.4055171069763763\n",
      "-3.4055171069763763\n",
      "-3.4055171069763763\n",
      "-3.4055171069763763\n",
      "-3.4055171069763763\n",
      "-3.4055171069763763\n",
      "-3.4055171069763763\n",
      "-3.4055171069763763\n",
      "-3.4055171069763763\n",
      "-3.4055171069763763\n",
      "-3.4055171069763763\n",
      "-3.4055171069763763\n",
      "-3.4055171069763763\n",
      "-3.4055171069763763\n",
      "-3.4055171069763763\n",
      "-3.4055171069763763\n",
      "-3.4055171069763763\n",
      "-3.4055171069763763\n",
      "-3.4055171069763763\n",
      "-3.4055171069763763\n",
      "-3.4055171069763763\n",
      "-3.4055171069763763\n",
      "-3.4055171069763763\n",
      "-3.4055171069763763\n",
      "-3.4055171069763763\n",
      "-3.4055171069763763\n",
      "-3.4055171069763763\n",
      "-3.4055171069763763\n",
      "-3.4055171069763763\n",
      "-3.4055171069763763\n",
      "-3.4055171069763763\n",
      "-3.4055171069763763\n",
      "-3.4055171069763763\n",
      "-3.4055171069763763\n",
      "-3.4055171069763763\n",
      "-3.4055171069763763\n",
      "-3.4055171069763763\n",
      "-3.4055171069763763\n",
      "-3.4055171069763763\n",
      "-3.4055171069763763\n",
      "-3.4055171069763763\n",
      "-3.4055171069763763\n",
      "-3.4055171069763763\n",
      "-3.4055171069763763\n",
      "-3.4055171069763763\n",
      "-3.4055171069763763\n",
      "-3.4055171069763763\n",
      "-3.4055171069763763\n",
      "-3.4055171069763763\n",
      "-3.4055171069763763\n",
      "-3.4055171069763763\n",
      "-3.4055171069763763\n",
      "-3.4055171069763763\n",
      "-3.4055171069763763\n",
      "-3.4055171069763763\n",
      "-3.4055171069763763\n",
      "-3.4055171069763763\n",
      "-3.4055171069763763\n",
      "-3.4055171069763763\n",
      "-3.4055171069763763\n",
      "-3.4055171069763763\n",
      "-3.4055171069763763\n",
      "-3.4055171069763763\n",
      "-3.4055171069763763\n",
      "-3.4055171069763763\n",
      "-3.4055171069763763\n",
      "-3.4055171069763763\n",
      "-3.4055171069763763\n",
      "-3.4055171069763763\n",
      "-3.4055171069763763\n",
      "-3.4055171069763763\n",
      "-3.4055171069763763\n",
      "-3.4055171069763763\n",
      "-3.4055171069763763\n",
      "-3.4055171069763763\n",
      "-3.4055171069763763\n",
      "-3.4055171069763763\n",
      "-3.4055171069763763\n",
      "-3.4055171069763763\n",
      "-3.4055171069763763\n",
      "-3.4055171069763763\n",
      "-3.4055171069763763\n",
      "-3.4055171069763763\n",
      "-3.4055171069763763\n",
      "-3.4055171069763763\n",
      "-3.4055171069763763\n",
      "-3.4055171069763763\n",
      "-3.4055171069763763\n",
      "-3.4055171069763763\n",
      "-3.4055171069763763\n",
      "-3.4055171069763763\n",
      "-3.4055171069763763\n",
      "-3.4055171069763763\n",
      "-3.4055171069763763\n",
      "-3.4055171069763763\n",
      "-3.4055171069763763\n",
      "-3.4055171069763763\n",
      "-3.4055171069763763\n",
      "-3.4055171069763763\n",
      "-3.4055171069763763\n",
      "-3.4055171069763763\n",
      "-3.4055171069763763\n",
      "-3.4055171069763763\n",
      "-3.4055171069763763\n",
      "-3.4055171069763763\n",
      "-3.4055171069763763\n",
      "-3.4055171069763763\n",
      "-3.4055171069763763\n",
      "-3.4055171069763763\n",
      "-3.4055171069763763\n",
      "-3.4055171069763763\n",
      "-3.4055171069763763\n",
      "-3.4055171069763763\n",
      "-3.4055171069763763\n",
      "-3.4055171069763763\n",
      "-3.4055171069763763\n",
      "-3.4055171069763763\n",
      "-3.4055171069763763\n",
      "-3.4055171069763763\n",
      "-3.4055171069763763\n",
      "-3.4055171069763763\n",
      "-3.4055171069763763\n",
      "-3.4055171069763763\n",
      "-3.4055171069763763\n",
      "-3.4055171069763763\n",
      "-3.4055171069763763\n",
      "-3.4055171069763763\n",
      "-3.4055171069763763\n",
      "-3.4055171069763763\n",
      "-3.4055171069763763\n",
      "-3.4055171069763763\n",
      "-3.4055171069763763\n",
      "-3.4055171069763763\n",
      "-3.4055171069763763\n",
      "-3.4055171069763763\n",
      "-3.4055171069763763\n",
      "-3.4055171069763763\n",
      "-3.4055171069763763\n",
      "-3.4055171069763763\n",
      "-3.4055171069763763\n",
      "-3.4055171069763763\n",
      "-3.4055171069763763\n",
      "-3.4055171069763763\n",
      "-3.4055171069763763\n",
      "-3.4055171069763763\n",
      "-3.4055171069763763\n",
      "-3.4055171069763763\n",
      "-3.4055171069763763\n",
      "-3.4055171069763763\n",
      "-3.4055171069763763\n",
      "-3.4055171069763763\n",
      "-3.4055171069763763\n",
      "-3.4055171069763763\n",
      "-3.4055171069763763\n",
      "-3.4055171069763763\n",
      "-3.4055171069763763\n",
      "-3.4055171069763763\n",
      "-3.4055171069763763\n",
      "-3.4055171069763763\n",
      "-3.4055171069763763\n",
      "-3.4055171069763763\n",
      "-3.4055171069763763\n",
      "-3.4055171069763763\n",
      "-3.4055171069763763\n",
      "-3.4055171069763763\n",
      "-3.4055171069763763\n",
      "-3.4055171069763763\n",
      "-3.4055171069763763\n",
      "-3.4055171069763763\n",
      "-3.4055171069763763\n",
      "-3.4055171069763763\n",
      "-3.4055171069763763\n",
      "-3.4055171069763763\n",
      "-3.4055171069763763\n",
      "-3.4055171069763763\n",
      "-3.4055171069763763\n",
      "-3.4055171069763763\n",
      "-3.4055171069763763\n",
      "-3.4055171069763763\n",
      "-3.4055171069763763\n",
      "-3.4055171069763763\n",
      "-3.4055171069763763\n",
      "-3.4055171069763763\n",
      "-3.4055171069763763\n",
      "-3.4055171069763763\n",
      "-3.4055171069763763\n",
      "-3.4055171069763763\n",
      "-3.4055171069763763\n",
      "-3.4055171069763763\n",
      "-3.4055171069763763\n",
      "-3.4055171069763763\n",
      "-3.4055171069763763\n",
      "-3.4055171069763763\n",
      "-3.4055171069763763\n",
      "-3.4055171069763763\n",
      "-3.4055171069763763\n",
      "-3.4055171069763763\n",
      "-3.4055171069763763\n",
      "-3.4055171069763763\n",
      "-3.4055171069763763\n",
      "-3.4055171069763763\n",
      "-3.4055171069763763\n",
      "-3.4055171069763763\n",
      "-3.4055171069763763\n",
      "-3.4055171069763763\n",
      "-3.4055171069763763\n",
      "-3.4055171069763763\n",
      "-3.4055171069763763\n",
      "-3.4055171069763763\n",
      "-3.4055171069763763\n",
      "-3.4055171069763763\n",
      "-3.4055171069763763\n",
      "-3.4055171069763763\n",
      "-3.4055171069763763\n",
      "-3.4055171069763763\n",
      "-3.4055171069763763\n",
      "-3.4055171069763763\n",
      "-3.4055171069763763\n",
      "-3.4055171069763763\n",
      "-3.4055171069763763\n",
      "-3.4055171069763763\n",
      "-3.4055171069763763\n",
      "-3.4055171069763763\n",
      "-3.4055171069763763\n",
      "-3.4055171069763763\n",
      "-3.4055171069763763\n",
      "-3.4055171069763763\n",
      "-3.4055171069763763\n",
      "-3.4055171069763763\n",
      "-3.4055171069763763\n",
      "-3.4055171069763763\n",
      "-3.4055171069763763\n",
      "-3.4055171069763763\n",
      "-3.4055171069763763\n",
      "-3.4055171069763763\n",
      "-3.4055171069763763\n",
      "-3.4055171069763763\n",
      "-3.4055171069763763\n",
      "-3.4055171069763763\n",
      "-3.4055171069763763\n",
      "-3.4055171069763763\n",
      "-3.4055171069763763\n",
      "-3.4055171069763763\n",
      "-3.4055171069763763\n",
      "-3.4055171069763763\n",
      "-3.4055171069763763\n",
      "-3.4055171069763763\n",
      "-3.4055171069763763\n",
      "-3.4055171069763763\n",
      "-3.4055171069763763\n",
      "-3.4055171069763763\n",
      "-3.4055171069763763\n",
      "-3.4055171069763763\n",
      "-3.4055171069763763\n",
      "-3.4055171069763763\n",
      "-3.4055171069763763\n",
      "-3.4055171069763763\n",
      "-3.4055171069763763\n",
      "-3.4055171069763763\n",
      "-3.4055171069763763\n",
      "-3.4055171069763763\n",
      "-3.4055171069763763\n",
      "-3.4055171069763763\n",
      "-3.4055171069763763\n",
      "-3.4055171069763763\n",
      "-3.4055171069763763\n",
      "-3.4055171069763763\n",
      "-3.4055171069763763\n",
      "-3.4055171069763763\n",
      "-3.4055171069763763\n",
      "-3.4055171069763763\n",
      "-3.4055171069763763\n",
      "-3.4055171069763763\n",
      "-3.4055171069763763\n",
      "-3.4055171069763763\n",
      "-3.4055171069763763\n",
      "-3.4055171069763763\n",
      "-3.4055171069763763\n",
      "-3.4055171069763763\n",
      "-3.4055171069763763\n"
     ]
>>>>>>> f300117d8d9440750985730da7c81346b8411097
>>>>>>> 7c317f76f9daf178670e0b616a82d92f36a81468
    }
   ],
   "source": [
    "prob_palavra_relevante = tabela_tweets_relativar / len(lista_palavras)\n",
    "prob_palavra_relevante.head()\n",
    "prob_palavra_irrelevante = tabela_tweets_relativa_n_rel / len(lista_palavras)\n",
    "prob_palavra_irrelevante.head()"
   ]
  },
  {
   "cell_type": "code",
   "execution_count": 149,
   "metadata": {},
   "outputs": [],
   "source": [
    "# log=[]\n",
    "# freq_log=0\n",
    "# for numero in p_palavras:\n",
    "#     freq_log = np.log10(numero)\n",
    "#     print(freq_log)"
   ]
  },
  {
   "cell_type": "code",
   "execution_count": 150,
   "metadata": {},
   "outputs": [],
   "source": [
    "# log=[]\n",
    "# for frase in t_rel.Treinamento:\n",
    "#     frase_d=frase.split()\n",
    "#     freq_log = 0 \n",
    "#     for palavra in frase_d:\n",
    "#         if palavra in p_palavras:\n",
    "#             freq_log += np.log10(p_palavras[palavra])\n",
    "#             log.append(freq_log)\n",
    "# log"
   ]
  },
  {
   "cell_type": "markdown",
   "metadata": {},
   "source": [
    "# Tweets não Relevantes Limpos e frequência de suas Palavras"
   ]
  },
  {
   "cell_type": "code",
<<<<<<< HEAD
=======
<<<<<<< HEAD
<<<<<<< HEAD
   "execution_count": 18,
=======
   "execution_count": 26,
>>>>>>> 7d6475bb49b6986b495f156cfc7463a4eb500bcb
=======
>>>>>>> 7c317f76f9daf178670e0b616a82d92f36a81468
   "execution_count": 151,
   "metadata": {},
   "outputs": [
    {
     "name": "stdout",
     "output_type": "stream",
     "text": [
      "128\n"
     ]
<<<<<<< HEAD
=======
=======
   "execution_count": 205,
>>>>>>> 1f7073a9273a2e768af4ded0c6f03cfddbf3b8ef
   "metadata": {},
   "outputs": [
    {
     "data": {
      "text/html": [
       "<div>\n",
       "<style scoped>\n",
       "    .dataframe tbody tr th:only-of-type {\n",
       "        vertical-align: middle;\n",
       "    }\n",
       "\n",
       "    .dataframe tbody tr th {\n",
       "        vertical-align: top;\n",
       "    }\n",
       "\n",
       "    .dataframe thead th {\n",
       "        text-align: right;\n",
       "    }\n",
       "</style>\n",
       "<table border=\"1\" class=\"dataframe\">\n",
       "  <thead>\n",
       "    <tr style=\"text-align: right;\">\n",
       "      <th></th>\n",
       "      <th>Treinamento</th>\n",
       "      <th>Relevância</th>\n",
       "    </tr>\n",
       "  </thead>\n",
       "  <tbody>\n",
       "    <tr>\n",
       "      <th>0</th>\n",
       "      <td>tiagoatoc nunca pensei que me mandasses comer ...</td>\n",
       "      <td>0</td>\n",
       "    </tr>\n",
       "    <tr>\n",
       "      <th>1</th>\n",
       "      <td>credo q eu acordei sem paciência, e já to come...</td>\n",
       "      <td>0</td>\n",
       "    </tr>\n",
       "    <tr>\n",
       "      <th>4</th>\n",
       "      <td>yenexiel ninguém compra snickers pra mim quand...</td>\n",
       "      <td>0</td>\n",
       "    </tr>\n",
       "    <tr>\n",
       "      <th>5</th>\n",
       "      <td>se tu roubar uma birosca dentro da favela os c...</td>\n",
       "      <td>0</td>\n",
       "    </tr>\n",
       "    <tr>\n",
       "      <th>15</th>\n",
       "      <td>a casa do jovem surtado se resume a pacotes de...</td>\n",
       "      <td>0</td>\n",
       "    </tr>\n",
       "  </tbody>\n",
       "</table>\n",
       "</div>"
      ],
      "text/plain": [
       "                                          Treinamento  Relevância\n",
       "0   tiagoatoc nunca pensei que me mandasses comer ...           0\n",
       "1   credo q eu acordei sem paciência, e já to come...           0\n",
       "4   yenexiel ninguém compra snickers pra mim quand...           0\n",
       "5   se tu roubar uma birosca dentro da favela os c...           0\n",
       "15  a casa do jovem surtado se resume a pacotes de...           0"
      ]
     },
<<<<<<< HEAD
<<<<<<< HEAD
     "execution_count": 18,
=======
     "execution_count": 26,
>>>>>>> 7d6475bb49b6986b495f156cfc7463a4eb500bcb
=======
     "execution_count": 205,
>>>>>>> 1f7073a9273a2e768af4ded0c6f03cfddbf3b8ef
     "metadata": {},
     "output_type": "execute_result"
>>>>>>> f300117d8d9440750985730da7c81346b8411097
>>>>>>> 7c317f76f9daf178670e0b616a82d92f36a81468
    }
   ],
   "source": [
    "t_n_rel= t_tr[(t_tr.Relevância==0)]\n",
    "print(len(t_n_rel))"
   ]
  },
  {
   "cell_type": "code",
<<<<<<< HEAD
   "execution_count": 152,
=======
<<<<<<< HEAD
<<<<<<< HEAD
   "execution_count": 19,
=======
   "execution_count": 27,
>>>>>>> 7d6475bb49b6986b495f156cfc7463a4eb500bcb
=======
   "execution_count": 152,
=======
   "execution_count": 206,
>>>>>>> f300117d8d9440750985730da7c81346b8411097
>>>>>>> 1f7073a9273a2e768af4ded0c6f03cfddbf3b8ef
>>>>>>> 7c317f76f9daf178670e0b616a82d92f36a81468
   "metadata": {},
   "outputs": [
    {
     "data": {
      "text/plain": [
       "0    samyra\n",
       "1        me\n",
       "2       deu\n",
       "3    batata\n",
       "4     frita\n",
       "dtype: object"
      ]
     },
<<<<<<< HEAD
     "execution_count": 152,
=======
<<<<<<< HEAD
<<<<<<< HEAD
     "execution_count": 19,
=======
     "execution_count": 27,
>>>>>>> 7d6475bb49b6986b495f156cfc7463a4eb500bcb
=======
     "execution_count": 152,
=======
     "execution_count": 206,
>>>>>>> f300117d8d9440750985730da7c81346b8411097
>>>>>>> 1f7073a9273a2e768af4ded0c6f03cfddbf3b8ef
>>>>>>> 7c317f76f9daf178670e0b616a82d92f36a81468
     "metadata": {},
     "output_type": "execute_result"
    }
   ],
   "source": [
    "serie_tweets_n_rel = ' '.join(t_n_rel.loc[:,\"Treinamento\"])\n",
    "a_n_rel = pd.Series(serie_tweets_n_rel.split())\n",
    "a.head()"
   ]
  },
  {
   "cell_type": "code",
<<<<<<< HEAD
   "execution_count": 153,
=======
<<<<<<< HEAD
<<<<<<< HEAD
   "execution_count": 20,
=======
   "execution_count": 28,
>>>>>>> 7d6475bb49b6986b495f156cfc7463a4eb500bcb
=======
   "execution_count": 153,
=======
   "execution_count": 207,
>>>>>>> f300117d8d9440750985730da7c81346b8411097
>>>>>>> 1f7073a9273a2e768af4ded0c6f03cfddbf3b8ef
>>>>>>> 7c317f76f9daf178670e0b616a82d92f36a81468
   "metadata": {},
   "outputs": [
    {
     "data": {
      "text/plain": [
       "snickers    107\n",
       "e            64\n",
       "um           54\n",
       "de           51\n",
       "o            40\n",
       "dtype: int64"
      ]
     },
<<<<<<< HEAD
     "execution_count": 153,
=======
<<<<<<< HEAD
<<<<<<< HEAD
     "execution_count": 20,
=======
     "execution_count": 28,
>>>>>>> 7d6475bb49b6986b495f156cfc7463a4eb500bcb
=======
     "execution_count": 153,
=======
     "execution_count": 207,
>>>>>>> f300117d8d9440750985730da7c81346b8411097
>>>>>>> 1f7073a9273a2e768af4ded0c6f03cfddbf3b8ef
>>>>>>> 7c317f76f9daf178670e0b616a82d92f36a81468
     "metadata": {},
     "output_type": "execute_result"
    }
   ],
   "source": [
    "a_n_rel.value_counts().head()"
   ]
  },
  {
   "cell_type": "code",
<<<<<<< HEAD
   "execution_count": 182,
=======
<<<<<<< HEAD
<<<<<<< HEAD
   "execution_count": 21,
=======
   "execution_count": 29,
>>>>>>> 7d6475bb49b6986b495f156cfc7463a4eb500bcb
=======
   "execution_count": 182,
=======
   "execution_count": 208,
>>>>>>> f300117d8d9440750985730da7c81346b8411097
>>>>>>> 1f7073a9273a2e768af4ded0c6f03cfddbf3b8ef
>>>>>>> 7c317f76f9daf178670e0b616a82d92f36a81468
   "metadata": {},
   "outputs": [
    {
     "data": {
      "text/plain": [
       "snickers    107\n",
       "e            64\n",
       "um           54\n",
       "de           51\n",
       "o            40\n",
       "dtype: int64"
      ]
     },
<<<<<<< HEAD
     "execution_count": 182,
=======
<<<<<<< HEAD
<<<<<<< HEAD
     "execution_count": 21,
=======
     "execution_count": 29,
>>>>>>> 7d6475bb49b6986b495f156cfc7463a4eb500bcb
=======
     "execution_count": 182,
=======
     "execution_count": 208,
>>>>>>> f300117d8d9440750985730da7c81346b8411097
>>>>>>> 1f7073a9273a2e768af4ded0c6f03cfddbf3b8ef
>>>>>>> 7c317f76f9daf178670e0b616a82d92f36a81468
     "metadata": {},
     "output_type": "execute_result"
    }
   ],
   "source": [
    "# Frequencia que a palavra aparece dentro dos irrelevantes\n",
    "tabela_tweets_relativa_n_rel = a_n_rel.value_counts()\n",
    "tabela_tweets_relativa_n_rel.head()"
   ]
  },
  {
   "cell_type": "code",
<<<<<<< HEAD
=======
<<<<<<< HEAD
<<<<<<< HEAD
   "execution_count": 22,
=======
   "execution_count": 30,
>>>>>>> 7d6475bb49b6986b495f156cfc7463a4eb500bcb
=======
>>>>>>> 7c317f76f9daf178670e0b616a82d92f36a81468
   "execution_count": 156,
   "metadata": {},
   "outputs": [],
   "source": [
    "# dic_log = {}\n",
    "# for frase in t_tr.Treinamento:\n",
    "#     frase_d=frase.split()\n",
    "#     freq_log = 0 \n",
    "#     for palavra in frase_d:\n",
    "#         if palavra in p_palavras:\n",
    "#             freq_log += np.log10(p_palavras[palavra])\n",
    "#     dic_log[frase] = freq_log\n",
    "# dic_log"
<<<<<<< HEAD
=======
=======
   "execution_count": 209,
>>>>>>> 1f7073a9273a2e768af4ded0c6f03cfddbf3b8ef
   "metadata": {},
   "outputs": [
    {
     "name": "stdout",
     "output_type": "stream",
     "text": [
      "0.05134722928317234\n",
      "0.03253685815963396\n",
      "0.027452974072191154\n",
      "0.02592780884595831\n"
     ]
    }
   ],
   "source": [
    "imprime = 4\n",
    "for palavra in tabela_tweets_relativa_n_rel.index:\n",
    "    if imprime:\n",
    "        print(tabela_tweets_relativa_n_rel[palavra])\n",
    "        imprime-=1"
>>>>>>> f300117d8d9440750985730da7c81346b8411097
>>>>>>> 7c317f76f9daf178670e0b616a82d92f36a81468
   ]
  },
  {
   "cell_type": "code",
<<<<<<< HEAD
=======
<<<<<<< HEAD
<<<<<<< HEAD
   "execution_count": 23,
=======
   "execution_count": 31,
>>>>>>> 7d6475bb49b6986b495f156cfc7463a4eb500bcb
   "metadata": {},
   "outputs": [
    {
     "data": {
      "text/plain": [
       "{'sinceramente': -11.625032159823007,\n",
       " 'manhã': -22.341382369863023,\n",
       " 'amigas': -46.13376843222214,\n",
       " 'ontem': -31.47816086843216,\n",
       " 'triste': -18.559824881661484,\n",
       " 'co/pirvh7zgb8': -56.06720550470424,\n",
       " 'choco…': -72.2972640101915,\n",
       " 'co/d0zqzsmpgu': -33.70801821633679,\n",
       " 'pular': -45.43582573513992,\n",
       " 'aumentado': -19.435486280793544,\n",
       " 'vezes': -41.39833315419738,\n",
       " 'de…': -58.884815143948266,\n",
       " 'chaaato': -8.982750359768444,\n",
       " 'saco': -47.215128104866864,\n",
       " 'youtube': -16.463120841852405,\n",
       " 'casa': -20.622024989946695,\n",
       " 'snickers': -33.73624746062496,\n",
       " 'co/x3lype9gos': -20.595447397618287,\n",
       " 'chocolate': -74.67445837683165,\n",
       " 'desculpa': -29.74355664667419,\n",
       " 'coisas': -26.237833773453943,\n",
       " 'sei': -54.98270152712966,\n",
       " '🤣🥳🤪': -9.641015291754554,\n",
       " 'dia': -76.18914012570718,\n",
       " 'algo': -25.589486095158435,\n",
       " '❤': -13.030225689621691,\n",
       " '🍫🥜': -14.412728728112882,\n",
       " 'cigaro': -6.188287611898838,\n",
       " 'moreh': -18.368216811541945,\n",
       " 'co/pdw6skrjae': -23.213105305625863,\n",
       " 'co/s41f9egcve': -21.062022487731156,\n",
       " 'tudo': -51.15472294864763,\n",
       " 'vida': -18.063872652137448,\n",
       " 'bom': -8.195358452649888,\n",
       " 'co/uv9fdxhcir': -56.57437949472629,\n",
       " 'eu': -21.612747879232504,\n",
       " 'quarto': -38.68120776942926,\n",
       " 'co/7ftpimaumn': -17.61064217099156,\n",
       " 'branco😂': -8.64160314089648,\n",
       " '😫🤧😔': -12.357459639470669,\n",
       " '😭😭😭😭😭😭😭': -24.903259948655617,\n",
       " 'co/mxiw9lcrdt': -42.84483034400397,\n",
       " 'caixa': -22.253265770182207,\n",
       " 'kkk': -24.50278321224183,\n",
       " 'co/h7k0zbqoti': -18.017688699705452,\n",
       " '😂🍀': -26.792855340379116,\n",
       " 'nada': -24.62189240518941,\n",
       " 'vaiqné': -16.433816014371516,\n",
       " 'terapia': -63.83456975014921,\n",
       " 'gata': -87.93307991229406,\n",
       " 'mesmo': -16.332394827592022,\n",
       " 'conhecido': -42.32466486478753,\n",
       " '&gt': -4.844412554878033,\n",
       " 'co/chb9l2md2s': -19.012692561485714,\n",
       " 'mais': -54.83423254968933,\n",
       " 'ent…': -27.36531969907612,\n",
       " 'dá': -18.19752522925858,\n",
       " '😂😂': -18.35590978523891,\n",
       " 'msm': -37.772044502481904,\n",
       " '😒': -58.110605781625964,\n",
       " '💖': -13.889427691145526,\n",
       " 'porto': -12.735136887595115,\n",
       " 'florida': -1.1792194441186237,\n",
       " 'peito': -26.852274262519373,\n",
       " 'kkkkkk': -21.86145316690105,\n",
       " 'melhor': -21.507725405514076,\n",
       " 'cu': -88.51440497078818,\n",
       " 'feliz': -18.669448131162135,\n",
       " 'acelera': -1.1792194441186237,\n",
       " 'm': -12.563921479871897,\n",
       " 'chega': -132.26774413761282,\n",
       " 'co/livbrfvkcz': -19.133602289956258,\n",
       " 'caralho': -23.30470327970531,\n",
       " 'produto': -51.426025582093644,\n",
       " 'co/ulwhlaolbd': -26.86106050368551,\n",
       " '❤️❤️❤️': -31.684189696230675,\n",
       " 'ksksksk': -6.014086681090426,\n",
       " 'proporciona': -12.67440078570651,\n",
       " '💗': -54.702805388420295,\n",
       " 'vsf': -21.659998015846785,\n",
       " ')': -14.927306831920019,\n",
       " 'desconheço': -21.284082910949945,\n",
       " 'tbm': -5.713056685426444,\n",
       " 'kkkk': -24.8909661177793,\n",
       " 'plmdds': -24.469500013094514,\n",
       " 'tranquiliade': -23.299422245136494,\n",
       " 'co/azrvpgimhd': -76.57014511767512,\n",
       " 'gosto': -21.054602107442037,\n",
       " 'tem': -33.9172122798131,\n",
       " 'yt': -20.755589658965555,\n",
       " 'problem…': -20.384014409515345,\n",
       " 'amém': -15.305453199632991,\n",
       " 'obrigada': -21.376816983303865,\n",
       " 'socorrrro': -25.7569771824522,\n",
       " '🥺🥺🥺🥺': -10.389495871470976,\n",
       " 'co/q1dojdnfcy': -23.803567651606755,\n",
       " 'co/qapqqjzdvv': -59.90476199609287,\n",
       " 'kkkkkkk': -67.96526537753947,\n",
       " 'tristeza': -42.652155777448655,\n",
       " 'demais': -12.656354625941102,\n",
       " 'agora': -10.19492120672128,\n",
       " 'co/4oj0a7jqas': -46.55881021488269,\n",
       " '😭😭❤️❤️❤️❤️❤️': -4.513235949340948,\n",
       " 'noo': -1.8678486151164237,\n",
       " 'dogao': -18.08327363577142,\n",
       " 'fraq…': -38.95201996017432,\n",
       " 'decidindo': -33.07211608596362,\n",
       " 'né': -7.375814517108019,\n",
       " 'chatooo': -49.571854252721934,\n",
       " '🙄': -56.46117287533218,\n",
       " 'viu': -16.36372301428977,\n",
       " 'co/9unwjwoa38': -6.299257414886544,\n",
       " 'aiiii': -7.693254909843147,\n",
       " 'co/moirausgvd': -16.456288330285673,\n",
       " '😁😁': -20.74508632130868,\n",
       " '🥰🥰': -42.84687422600957,\n",
       " '🥴🥴🥴😔💕': -96.62308751733072,\n",
       " 'existe': -20.025033449586115,\n",
       " 'diabetes': -15.590455749862821,\n",
       " '👍👍👍': -49.1595665793267,\n",
       " '😭': -24.262205500632408,\n",
       " 'espinhas': -26.547553290649553,\n",
       " 'abomino': -28.776002244145253,\n",
       " 'exaltei': -134.62733394569244,\n",
       " 'co/0h90sa0leq': -54.193057542353074,\n",
       " 'chorei': -36.929801407121126,\n",
       " 'serio': -44.52605482651441,\n",
       " 'deu': -20.03783972238844,\n",
       " 'sagu': -71.49007163287537,\n",
       " 'kk': -43.07748189707585,\n",
       " 'desestressar': -7.239626406912619,\n",
       " 'infernooooo': -37.54233897545732,\n",
       " 'importa': -25.988350311178372,\n",
       " 'kakaak': -61.26384047232415,\n",
       " 'fome': -74.37684367273896,\n",
       " 'também)': -31.296299191487275,\n",
       " 'rp': -48.294746667454326,\n",
       " 'incrível': -14.340801003191903,\n",
       " 'rsrsrsrs': -70.36500108622191,\n",
       " 'bosta': -13.564819710764796,\n",
       " 'perfeita': -17.989723907562198,\n",
       " 'vsfd': -27.490394015732747,\n",
       " '💚🏁🇧🇷': -8.4655118818408,\n",
       " 'gula': -35.18709986362321,\n",
       " 'co/kxmi25zyop': -33.385716896250585,\n",
       " 'mundo': -19.107703023479562,\n",
       " 'neguinha': -15.754253178042187,\n",
       " 'respeito': -13.750998388760975,\n",
       " 'co/snk0d23xtv': -27.07394893875707,\n",
       " '😅': -37.06521046067089,\n",
       " 'n': -25.468676705773248,\n",
       " 'pf': -21.542843743899073,\n",
       " 'pr…': -60.71013722903911,\n",
       " 'comigo,…': -39.497432896345,\n",
       " 'adoro': -20.950848251031584,\n",
       " 'aaaaaaaa': -15.937694907558187,\n",
       " 'comer': -38.968473860055255,\n",
       " 'mãos': -30.48585849644312,\n",
       " '🤔': -15.506909698412747,\n",
       " '+': -83.89179265945116,\n",
       " 'skskskskskskss': 0,\n",
       " 'logo': -65.39391209049722,\n",
       " 'co/luatd2uwj3': -21.780985260070874,\n",
       " 'videos': -37.84275056130497,\n",
       " '…': -38.131477949537995,\n",
       " '🤣': -12.194528413653051,\n",
       " 'd…': -37.38400945605969,\n",
       " 'pequeninos': -33.56152905319288,\n",
       " 'co/dkdfr2yloq': -15.470763084590324,\n",
       " 'itapecerica': -58.521687915458166,\n",
       " 'pulaaaaaarrrr': -41.236862659781934,\n",
       " 'parede': -39.38365376561804,\n",
       " 'compra': -37.56058692297199,\n",
       " 'esquerdopatas': -35.16862360021535,\n",
       " 'clima': -46.882913696077296,\n",
       " 'desempregada': -18.730145971515743,\n",
       " 'doce': -102.49673207768528,\n",
       " '🥰': -28.16626334553535,\n",
       " '100forints)': -30.212445633085387,\n",
       " '🤠': -54.25420554534482,\n",
       " 'co/jhvmfmfw8r': -20.83952860221121,\n",
       " 'grafite': -31.577923558631678,\n",
       " 'mim🤤🥰💙': -20.114054373805907,\n",
       " 'propaganda': -38.58010482392406,\n",
       " 'co/qm7gosiile': -44.21101708111435,\n",
       " 'palma': -22.991431160454496,\n",
       " 'ctz': -25.60816390956152,\n",
       " 'kkkkk': -25.727132235620655,\n",
       " 'hj': -13.561160216510315,\n",
       " '😭😭😭': -22.268288643766713,\n",
       " '🤪': -38.88762598651109,\n",
       " 'armario': -38.599222994011406,\n",
       " 'relvoltei': -100.32162697093808,\n",
       " 'apetite': -74.31869835800423,\n",
       " '❤️': -13.886803547319378,\n",
       " 'agorinha': -13.831858035854857,\n",
       " 'co/antf6axl4s': -102.99197943035605,\n",
       " 'mermão': -23.30265795695769,\n",
       " '🍫': -30.689673817927726,\n",
       " 'co/oucehufvcm': -27.010090745451592,\n",
       " '😍😍': -11.557469240304478,\n",
       " 'menina': -36.44624125986112,\n",
       " 'co/byqhoresa8': -22.93685817879668,\n",
       " 'co/vsxsbxwwj8': -22.350421430215963}"
      ]
     },
<<<<<<< HEAD
     "execution_count": 23,
=======
     "execution_count": 31,
>>>>>>> 7d6475bb49b6986b495f156cfc7463a4eb500bcb
     "metadata": {},
     "output_type": "execute_result"
    }
   ],
   "source": [
    "dic_log = {}\n",
    "for frase in t_tr.Treinamento:\n",
    "    frase_d=frase.split()\n",
    "    freq_log = 0 \n",
    "    for palavra in frase_d:\n",
    "        if palavra in tabela_tweets_relativa:\n",
    "            freq_log += np.log10(tabela_tweets_relativa[palavra])\n",
    "    dic_log[palavra] = freq_log\n",
    "dic_log\n"
=======
>>>>>>> 7c317f76f9daf178670e0b616a82d92f36a81468
   "execution_count": 174,
   "metadata": {},
   "outputs": [
    {
     "name": "stdout",
     "output_type": "stream",
     "text": [
      "frase n relevante\n"
     ]
    }
   ],
   "source": [
    "def classificador(tweet):\n",
    "    lista_result_num = []\n",
    "    palavras = tweet.split()\n",
    "    prob=0\n",
    "    prob_n=0\n",
    "    log  = 0\n",
    "    for p in lista_palavras:\n",
    "        if p in p_palavras:\n",
    "            prob += p_palavras[p]\n",
    "        if p in p_palavras:\n",
    "            prob_n += p_palavras[p]\n",
    "        if p not in lista_palavras:\n",
    "            log += math.log(1/4511, 10)\n",
    "        else:\n",
    "            log += math.log(p_palavras[p] + +1/4511, 10)\n",
    "    lista_result_num.append(log + math.log(172/300, 10))\n",
    "    if prob > prob_n:\n",
    "        return \"frase relevante\"\n",
    "    if prob <= prob_n:\n",
    "        return \"frase n relevante\"\n",
    "    return lista_result_num\n",
    "print(classificador(\"oi meu nome é joao\"))"
   ]
  },
  {
   "cell_type": "code",
   "execution_count": 191,
   "metadata": {},
   "outputs": [
    {
     "name": "stdout",
     "output_type": "stream",
     "text": [
      "107\n",
      "20503032.390565854\n",
      "É relevante\n"
     ]
    }
   ],
   "source": [
    "def classificador_2(tweet):\n",
    "    palavras=tweet.split()\n",
    "    prob_r=1\n",
    "    prob_nr=1\n",
    "    for p in palavras:\n",
    "        if p in tabela_tweets_relativar:\n",
    "            prob_r *= (tabela_tweets_relativar[p]+1) / tabela_tweets_relativar.sum()+len(lista_palavras)\n",
    "#             print(tabela_tweets_relativar[p])\n",
    "#             print(prob_r)\n",
    "        if p in tabela_tweets_relativa_n_rel:\n",
    "            prob_nr *= (tabela_tweets_relativa_n_rel[p]+1) / tabela_tweets_relativa_n_rel.sum()+len(lista_palavras)\n",
    "            print(tabela_tweets_relativa_n_rel[p])\n",
    "            print(prob_nr)\n",
    "        else:\n",
    "            prob_nr *= 1 / tabela_tweets_relativa_n_rel.sum()+len(lista_palavras)\n",
    "            prob_r *= 1 / tabela_tweets_relativar.sum()+len(lista_palavras)\n",
    "    if prob_r > prob_nr:\n",
    "        return \"É relevante\"\n",
    "    else: \n",
    "        return \"Não é relevante\"\n",
    "print(classificador_2(\"odeio snickers\"))\n",
    "# len(lista_palavras)+tabela_tweets_relativar.sum()"
<<<<<<< HEAD
=======
=======
    "print(classificador(\"minha casa é gostosa\"))"
>>>>>>> f300117d8d9440750985730da7c81346b8411097
>>>>>>> 1f7073a9273a2e768af4ded0c6f03cfddbf3b8ef
>>>>>>> 7c317f76f9daf178670e0b616a82d92f36a81468
   ]
  },
  {
   "cell_type": "markdown",
   "metadata": {},
   "source": [
    "___\n",
    "### Verificando a performance\n",
    "\n",
    "Agora você deve testar o seu classificador com a base de Testes."
   ]
  },
  {
   "cell_type": "code",
   "execution_count": null,
   "metadata": {},
   "outputs": [],
   "source": []
  },
  {
   "cell_type": "code",
   "execution_count": null,
   "metadata": {},
   "outputs": [],
   "source": []
  },
  {
   "cell_type": "code",
   "execution_count": null,
   "metadata": {},
   "outputs": [],
   "source": []
  },
  {
   "cell_type": "markdown",
   "metadata": {},
   "source": [
    "___\n",
    "### Concluindo"
   ]
  },
  {
   "cell_type": "code",
   "execution_count": null,
   "metadata": {},
   "outputs": [],
   "source": []
  },
  {
   "cell_type": "code",
   "execution_count": null,
   "metadata": {},
   "outputs": [],
   "source": []
  },
  {
   "cell_type": "markdown",
   "metadata": {},
   "source": [
    "## Aperfeiçoamento:\n",
    "\n",
    "Os trabalhos vão evoluir em conceito dependendo da quantidade de itens avançados:\n",
    "\n",
    "* Limpar: \\n, :, \", ', (, ), etc SEM remover emojis\n",
    "* Corrigir separação de espaços entre palavras e emojis ou emojis e emojis\n",
    "* Propor outras limpezas e transformações que não afetem a qualidade da informação ou classificação\n",
    "* Criar categorias intermediárias de relevância baseadas na probabilidade: ex.: muito relevante, relevante, neutro, irrelevante, muito irrelevante (3 categorias: C, mais categorias conta para B)\n",
    "* Explicar por que não posso usar o próprio classificador para gerar mais amostras de treinamento\n",
    "* Propor diferentes cenários para Naïve Bayes fora do contexto do projeto\n",
    "* Sugerir e explicar melhorias reais com indicações concretas de como implementar (indicar como fazer e indicar material de pesquisa)\n",
    "* Montar um dashboard que periodicamente realiza análise de sentimento e visualiza estes dados"
   ]
  },
  {
   "cell_type": "markdown",
   "metadata": {},
   "source": [
    "# Referências"
   ]
  },
  {
   "cell_type": "markdown",
   "metadata": {},
   "source": [
    "[Naive Bayes and Text Classification](https://arxiv.org/pdf/1410.5329.pdf)  **Mais completo**\n",
    "\n",
    "[A practical explanation of a Naive Bayes Classifier](https://monkeylearn.com/blog/practical-explanation-naive-bayes-classifier/) **Mais simples**"
   ]
  },
  {
   "cell_type": "code",
   "execution_count": null,
   "metadata": {},
   "outputs": [],
   "source": []
  }
 ],
 "metadata": {
  "kernelspec": {
   "display_name": "Python 3",
   "language": "python",
   "name": "python3"
  },
  "language_info": {
   "codemirror_mode": {
    "name": "ipython",
    "version": 3
   },
   "file_extension": ".py",
   "mimetype": "text/x-python",
   "name": "python",
   "nbconvert_exporter": "python",
   "pygments_lexer": "ipython3",
   "version": "3.7.3"
  }
 },
 "nbformat": 4,
 "nbformat_minor": 4
}

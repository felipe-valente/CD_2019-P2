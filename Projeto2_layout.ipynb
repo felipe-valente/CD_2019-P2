{
 "cells": [
  {
   "cell_type": "markdown",
   "metadata": {},
   "source": [
    "# Projeto 2 - Ciência dos Dados"
   ]
  },
  {
   "cell_type": "markdown",
   "metadata": {},
   "source": [
    "Nome: Luiz Felipe Domingues Valente\n",
    "\n",
    "Nome: João Guilherme Cintra de Freitas Almeida"
   ]
  },
  {
   "cell_type": "markdown",
   "metadata": {},
   "source": [
    "Serão permitidos grupos de três pessoas, mas com uma rubrica mais exigente. Grupos deste tamanho precisarão fazer um questionário de avaliação de trabalho em equipe"
   ]
  },
  {
   "cell_type": "markdown",
   "metadata": {},
   "source": [
    "___\n",
    "# Classificador automático de sentimento\n"
   ]
  },
  {
   "cell_type": "markdown",
   "metadata": {},
   "source": [
    "## Preparando o ambiente no jupyter:"
   ]
  },
  {
   "cell_type": "code",
   "execution_count": 2,
   "metadata": {},
   "outputs": [],
   "source": [
    "%%capture\n",
    "\n",
    "#Instalando o tweepy\n",
    "!pip install tweepy"
   ]
  },
  {
   "cell_type": "code",
<<<<<<< HEAD
   "execution_count": 3,
=======
   "execution_count": 9,
>>>>>>> 7d6475bb49b6986b495f156cfc7463a4eb500bcb
   "metadata": {
    "jupyter": {
     "outputs_hidden": true
    }
   },
   "outputs": [],
   "source": [
    "import tweepy\n",
    "import math\n",
    "import os.path\n",
    "import pandas as pd\n",
    "import json\n",
    "from random import shuffle\n",
    "import numpy as np\n",
    "import re \n",
    "from emoji import UNICODE_EMOJI"
   ]
  },
  {
   "cell_type": "markdown",
   "metadata": {},
   "source": [
    "___\n",
    "## Autenticando no  Twitter\n",
    "\n",
    "* Conta: ***[Preencha aqui o id da sua conta. Ex: @fulano ]***"
   ]
  },
  {
   "cell_type": "code",
<<<<<<< HEAD
   "execution_count": 4,
=======
   "execution_count": 10,
>>>>>>> 7d6475bb49b6986b495f156cfc7463a4eb500bcb
   "metadata": {
    "jupyter": {
     "outputs_hidden": true
    }
   },
   "outputs": [],
   "source": [
    "#Dados de autenticação do twitter:\n",
    "\n",
    "# Coloque aqui o identificador da conta no twitter: @jofenina\n",
    "\n",
    "#leitura do arquivo no formato JSON\n",
    "# with open('auth.pass') as fp:    \n",
    "#     data = json.load(fp)\n",
    "\n",
    "#Configurando a biblioteca. Não modificar\n",
    "# auth = tweepy.OAuthHandler(data['consumer_key'], data['consumer_secret'])\n",
    "# auth.set_access_token(data['access_token'], data['access_token_secret'])"
   ]
  },
  {
   "cell_type": "markdown",
   "metadata": {},
   "source": [
    "___\n",
    "## Etapas do projeto:"
   ]
  },
  {
   "cell_type": "markdown",
   "metadata": {},
   "source": [
    "### Escolha de um produto e coleta das mensagens\n"
   ]
  },
  {
   "cell_type": "code",
<<<<<<< HEAD
   "execution_count": 5,
=======
   "execution_count": 11,
>>>>>>> 7d6475bb49b6986b495f156cfc7463a4eb500bcb
   "metadata": {
    "jupyter": {
     "outputs_hidden": true
    }
   },
   "outputs": [],
   "source": [
    "#Produto escolhido:\n",
    "produto = 'snickers'\n",
    "\n",
    "#Quantidade mínima de mensagens capturadas:\n",
    "n = 500\n",
    "#Quantidade mínima de mensagens para a base de treinamento:\n",
    "t = 300\n",
    "\n",
    "#Filtro de língua, escolha uma na tabela ISO 639-1.\n",
    "lang = 'pt'"
   ]
  },
  {
   "cell_type": "markdown",
   "metadata": {},
   "source": [
    "Capturando os dados do twitter:"
   ]
  },
  {
   "cell_type": "code",
<<<<<<< HEAD
   "execution_count": 6,
=======
   "execution_count": 12,
>>>>>>> 7d6475bb49b6986b495f156cfc7463a4eb500bcb
   "metadata": {
    "jupyter": {
     "outputs_hidden": true
    }
   },
   "outputs": [],
   "source": [
    "#Cria um objeto para a captura\n",
    "# api = tweepy.API(auth)\n",
    "\n",
    "#Inicia a captura, para mais detalhes: ver a documentação do tweepy\n",
    "# i = 1\n",
    "# msgs = []\n",
    "# for msg in tweepy.Cursor(api.search, q=produto, lang=lang, tweet_mode=\"extended\").items():    \n",
    "#     msgs.append(msg.full_text.lower())\n",
    "#     i += 1\n",
    "#     if i > n:\n",
    "#         break\n",
    "\n",
    "#Embaralhando as mensagens para reduzir um possível viés\n",
    "# shuffle(msgs)"
   ]
  },
  {
   "cell_type": "markdown",
   "metadata": {},
   "source": [
    "Salvando os dados em uma planilha Excel:"
   ]
  },
  {
   "cell_type": "code",
<<<<<<< HEAD
   "execution_count": 7,
=======
   "execution_count": 13,
>>>>>>> 7d6475bb49b6986b495f156cfc7463a4eb500bcb
   "metadata": {
    "jupyter": {
     "outputs_hidden": true
    }
   },
   "outputs": [],
   "source": [
    "#Verifica se o arquivo não existe para não substituir um conjunto pronto\n",
    "# if not os.path.isfile('./{0}.xlsx'.format(produto)):\n",
    "    \n",
    "    #Abre o arquivo para escrita\n",
    "#     writer = pd.ExcelWriter('{0}.xlsx'.format(produto))\n",
    "\n",
    "    #divide o conjunto de mensagens em duas planilhas\n",
    "#     dft = pd.DataFrame({'Treinamento' : pd.Series(msgs[:t])})\n",
    "#     dft.to_excel(excel_writer = writer, sheet_name = 'Treinamento', index = False)\n",
    "\n",
    "#     dfc = pd.DataFrame({'Teste' : pd.Series(msgs[t:])})\n",
    "#     dfc.to_excel(excel_writer = writer, sheet_name = 'Teste', index = False)\n",
    "\n",
    "    #fecha o arquivo\n",
    "#     writer.save()"
   ]
  },
  {
   "cell_type": "markdown",
   "metadata": {},
   "source": [
    "___\n",
    "### Montando o Classificador Naive-Bayes\n",
    "\n",
    "Considerando apenas as mensagens da planilha Treinamento, ensine  seu classificador."
   ]
  },
  {
   "cell_type": "markdown",
   "metadata": {},
   "source": [
    "# Limpeza"
   ]
  },
  {
   "cell_type": "code",
<<<<<<< HEAD
   "execution_count": 8,
=======
   "execution_count": 14,
>>>>>>> 7d6475bb49b6986b495f156cfc7463a4eb500bcb
   "metadata": {},
   "outputs": [
    {
     "data": {
      "text/html": [
       "<div>\n",
       "<style scoped>\n",
       "    .dataframe tbody tr th:only-of-type {\n",
       "        vertical-align: middle;\n",
       "    }\n",
       "\n",
       "    .dataframe tbody tr th {\n",
       "        vertical-align: top;\n",
       "    }\n",
       "\n",
       "    .dataframe thead th {\n",
       "        text-align: right;\n",
       "    }\n",
       "</style>\n",
       "<table border=\"1\" class=\"dataframe\">\n",
       "  <thead>\n",
       "    <tr style=\"text-align: right;\">\n",
       "      <th></th>\n",
       "      <th>Treinamento</th>\n",
       "      <th>Relevância</th>\n",
       "    </tr>\n",
       "  </thead>\n",
       "  <tbody>\n",
       "    <tr>\n",
       "      <th>0</th>\n",
       "      <td>@tiagoatoc nunca pensei que me mandasses comer...</td>\n",
       "      <td>0</td>\n",
       "    </tr>\n",
       "    <tr>\n",
       "      <th>1</th>\n",
       "      <td>credo q eu acordei sem paciência, e já to come...</td>\n",
       "      <td>0</td>\n",
       "    </tr>\n",
       "    <tr>\n",
       "      <th>2</th>\n",
       "      <td>samyra me deu batata frita com cheddar e bacon...</td>\n",
       "      <td>1</td>\n",
       "    </tr>\n",
       "    <tr>\n",
       "      <th>3</th>\n",
       "      <td>crlh acabei de descobrir q tem sorvete de snic...</td>\n",
       "      <td>1</td>\n",
       "    </tr>\n",
       "    <tr>\n",
       "      <th>4</th>\n",
       "      <td>@yenexiel ninguém compra snickers pra mim quan...</td>\n",
       "      <td>0</td>\n",
       "    </tr>\n",
       "  </tbody>\n",
       "</table>\n",
       "</div>"
      ],
      "text/plain": [
       "                                         Treinamento  Relevância\n",
       "0  @tiagoatoc nunca pensei que me mandasses comer...           0\n",
       "1  credo q eu acordei sem paciência, e já to come...           0\n",
       "2  samyra me deu batata frita com cheddar e bacon...           1\n",
       "3  crlh acabei de descobrir q tem sorvete de snic...           1\n",
       "4  @yenexiel ninguém compra snickers pra mim quan...           0"
      ]
     },
<<<<<<< HEAD
     "execution_count": 8,
=======
     "execution_count": 14,
>>>>>>> 7d6475bb49b6986b495f156cfc7463a4eb500bcb
     "metadata": {},
     "output_type": "execute_result"
    }
   ],
   "source": [
    "tweets_tr_sujos = pd.read_excel(\"snickers.xlsx\")\n",
    "tweets_tr_sujos.head()"
   ]
  },
  {
   "cell_type": "code",
<<<<<<< HEAD
   "execution_count": 9,
=======
   "execution_count": 15,
>>>>>>> 7d6475bb49b6986b495f156cfc7463a4eb500bcb
   "metadata": {},
   "outputs": [
    {
     "data": {
      "text/plain": [
       "0    @tiagoatoc nunca pensei que me mandasses comer...\n",
       "1    credo q eu acordei sem paciência, e já to come...\n",
       "2    samyra me deu batata frita com cheddar e bacon...\n",
       "3    crlh acabei de descobrir q tem sorvete de snic...\n",
       "4    @yenexiel ninguém compra snickers pra mim quan...\n",
       "Name: Treinamento, dtype: object"
      ]
     },
<<<<<<< HEAD
     "execution_count": 9,
=======
     "execution_count": 15,
>>>>>>> 7d6475bb49b6986b495f156cfc7463a4eb500bcb
     "metadata": {},
     "output_type": "execute_result"
    }
   ],
   "source": [
    "treinamento = tweets_tr_sujos.loc[:, \"Treinamento\"]\n",
    "rel=tweets_tr_sujos.loc[:, \"Relevância\"]\n",
    "treinamento.head()"
   ]
  },
  {
   "cell_type": "code",
<<<<<<< HEAD
   "execution_count": 10,
=======
   "execution_count": 16,
>>>>>>> 7d6475bb49b6986b495f156cfc7463a4eb500bcb
   "metadata": {},
   "outputs": [],
   "source": [
    "def cleanup(text):\n",
    "    \n",
    "#  Limpeza de caracteres\n",
    "\n",
    "    punctuation = '[!\\-.:?;@]'\n",
    "    pattern = re.compile(punctuation)\n",
    "    text_subbed = re.sub(pattern, ' ', text)\n",
    "    return text_subbed    "
   ]
  },
  {
   "cell_type": "code",
<<<<<<< HEAD
   "execution_count": 11,
=======
   "execution_count": 17,
>>>>>>> 7d6475bb49b6986b495f156cfc7463a4eb500bcb
   "metadata": {},
   "outputs": [
    {
     "data": {
      "text/plain": [
       "['tiagoatoc nunca pensei que me mandasses comer snickers antes de dormir sinceramente',\n",
       " 'credo q eu acordei sem paciência, e já to comendo um snickers de café da manhã',\n",
       " 'samyra me deu batata frita com cheddar e bacon, e evelyn me deu snickers, amo minhas amigas',\n",
       " 'crlh acabei de descobrir q tem sorvete de snickers eu preciso pra ontem',\n",
       " 'yenexiel ninguém compra snickers pra mim quando tô triste',\n",
       " 'se tu roubar uma birosca dentro da favela os cara da firma de dá um sapeca e tu leva tiro nas mãos o dimenor chicoteado deu sorte mas ainda assim saiu caro esse snickers 😂 https //t co/pirvh7zgb8',\n",
       " 'rt thaii_xx sério, o anúncio da snickers no yt tá mt chato, eles fazem o bgl pra vender e na real todo mundo vai é ficar c raiva do choco…',\n",
       " 'rt amandinhavr eu esperando a propaganda insuportável de snickers acabar de passar no vídeo https //t co/d0zqzsmpgu',\n",
       " 'não aguento mais esses anúncios da snickers, nao da nem pra pular',\n",
       " 'a dor do preço do snickers ter aumentado']"
      ]
     },
<<<<<<< HEAD
     "execution_count": 11,
=======
     "execution_count": 17,
>>>>>>> 7d6475bb49b6986b495f156cfc7463a4eb500bcb
     "metadata": {},
     "output_type": "execute_result"
    }
   ],
   "source": [
    "t_limpos1 = []\n",
    "t_limpos2 = []\n",
    "t_limpos = []\n",
    "for linha in treinamento:\n",
    "    b=linha.lower()\n",
    "    t_limpos1.append(cleanup(b))\n",
    "for e in t_limpos1:\n",
    "    a = e.strip()\n",
    "    t_limpos2.append(a)\n",
    "for s in t_limpos2:\n",
    "    z = ' '.join(s.split())\n",
    "    t_limpos.append(z)\n",
    "t_limpos[0:10]"
   ]
  },
  {
   "cell_type": "code",
   "execution_count": 19,
   "metadata": {},
   "outputs": [
    {
     "name": "stdout",
     "output_type": "stream",
     "text": [
      "['tiagoatoc nunca pensei que me mandasses comer snickers antes de dormir sinceramente', 'credo q eu acordei sem paciência, e já to comendo um snickers de café da manhã', 'samyra me deu batata frita com cheddar e bacon, e evelyn me deu snickers, amo minhas amigas', 'crlh acabei de descobrir q tem sorvete de snickers eu preciso pra ontem', 'yenexiel ninguém compra snickers pra mim quando tô triste', 'se tu roubar uma birosca dentro da favela os cara da firma de dá um sapeca e tu leva tiro nas mãos o dimenor chicoteado deu sorte mas ainda assim saiu caro esse snickers  😂 https //t co/pirvh7zgb8', 'rt thaii_xx sério, o anúncio da snickers no yt tá mt chato, eles fazem o bgl pra vender e na real todo mundo vai é ficar c raiva do choco…', 'rt amandinhavr eu esperando a propaganda insuportável de snickers acabar de passar no vídeo https //t co/d0zqzsmpgu', 'não aguento mais esses anúncios da snickers, nao da nem pra pular', 'a dor do preço do snickers ter aumentado', 'fiquei vendo propaganda do snickers, fiquei com vontade e acabei comprando, propaganda da certo as vezes', 'rt papi_fabii 1 pacote de gomas, 1 pacote de rebuçados, 1 pacote de snickers e mais de 100 motivos porque te amo foram precisos menos de…', 'anuncio do snickers chaaato', 'todo vídeo do youtube tem a propaganda do snickers vei, no começo era dboa agr já enche o saco', 'caralho não aguento mais essa propaganda de snickers no youtube', 'a casa do jovem surtado se resume a pacotes de snickers secos pela casa', 'não aguento mais a propaganda da snickers', 'eu tô vendo um snickers verde ou é miragem https //t co/x3lype9gos', 'eu não aguento mais ver a propaganda do snickers no youtube que raiva nunca mais como essa bosta de chocolate', 'btw vacilao o cara q entornou kislla na minha mochila e nem me deu um snickers como desculpa', 'rt _josephrosa em 9 meses parece que já vivi dois anos, 2019 está me ensinando e abrindo os meus olhos em relação a tantas coisas', 'sei que to nervosa quando em uma noite comi um twix, um snickers, pipoca, torrada, empada e mousse sendo q cheguei em casa 19h e ainda são 22h agora pq eu to nervosa eu n sei', 'javamdr22 q itchu, vai se biscoita de snickers né  🤣 🥳 🤪', 'acabei de devorar um snickers', 'almocando um snickers bom dia', 'eu não aguento mais a propaganda do snickers pqp alguém faz algo', 'snickers é tudo de bom  ❤', 'eu estou viciado em snickers  🍫 🥜', 'contecisco um snickers roubado e um cigaro', 'brupelicia e o meu eh snickers fica a dica ta moreh', 'pringles, oreos, snickers, cereais, iced tea, leite o pior é q vai tudo seguido https //t co/pdw6skrjae', 'casa ja esta amor, agr é tratar do resto  🥰 melissadantas21 https //t co/s41f9egcve', 'ba por mim eu sentava cm uma caixa de snickers e comia tudo', 'vou comer o mc flurry de snickers mais fácil da minha vida', 'snickers é muito bom', 'não aguento mais a propaganda do snickers no youtube', 'isso é o que o lucasdefelipe faz quando eu falo que queria comer um doce queria deixar explicito o tamanho da ousadia dele comendo o meu snickers em vídeo https //t co/uv9fdxhcir', 'por mim eu viveria só de kitkat e snickers', 'que vontade de comer snickers aa, alguém compra pra eu', 'nada se compara a sensação estar triste e encontrar uma barra de snickers no quarto', 'ingridh__ me paga um snickers', 'só quero um snickers', '1 snickers p qm fizer p mim, valendo https //t co/7ftpimaumn', 'killerbunny01 trouxavcs primeiro o meu snickers branco 😂', 'preciso urgentemente de uma massagem pago com snickers', 'eu só queria um snickers  😫 🤧 😔', 'não acredito que perdi um snickers dentro de casa  😭 😭 😭 😭 😭 😭 😭', 'rt simplesmentesyl depois daquele almoço gostoso, bora saborear um snickers  🍫 #adooro 😋 #tardeebooa 😍 https //t co/mxiw9lcrdt', 'rt lara_joao7 eternoleao_1 mano vou aí comprar snickers e vou à tua caixa', 'comprei um snickers pra ver se melhora meu dia kkk', 'eu come 3 snickers de uma vez só eu tb https //t co/h7k0zbqoti', 'rt anamg2402 e eu que fui ao grab e com 1 euro tirei 2 snickers ando com sorte  😂 🍀', 'e eu que fui ao grab e com 1 euro tirei 2 snickers ando com sorte  😂 🍀', 'n aguento mais anúncio do snickers', 'queria um denguinho, fini, snickers e twix , mais nada', 'e um snickers de surpresa pra mim n sei né, vaiqné', 'quanto será que o snickers pagou p youtube', 'não tem nenhum psicólogo de dm do twitter online aí pra me ajudar psicologicamente com uma caixa de snickers e/ou dinheiro pra eu voltar pra terapia', 'até q hj n foi tão mierda,n teve aula por causa do trab de hist,bru comprou comida p mim,bru comprou “almoço” p mim,fofoquei,samu me deu snickers e ainda to me achando gata', 'warlenvieiiraa coma um snickers e volte a ser vc mesmo', 'queria ser invisível pra ir lá no soberano comprar mais snickers e umas cervejas sem correr o resto de encontrar alguém conhecido', 'coyote_snickers a cute cicada &gt', 'fui encher a garrafa comprei um snickers https //t co/chb9l2md2s', 'gnte mais que raiva desse comercial do snickers', 'dou 8 snickers pro pedro e ele me vem falano q nao me ama nmrl tropa nao ta dando mais', 'rt rodrigop_8 a minha namorada em alguns momentos acha se feia ou menos bonita digamos assim, e pergunta me à espera que confirme, no ent…', 'snickers é muito bom, pra mim não dá', 'rt luiscastrodnb danielleitef ahah, não vão faltar os snickers mais tarde ou mais cedo entram pro rider técnico  😂 😂', 'to aqui comendo um snickers com peso na consciência  😭 😭 😭 😭 sou uma fraca msm', 'mas é incrível como esse youtube força nas propagandas, não aguento mais essa da snickers e o pior é que não dá pra pular  😒', 'andre_snickers tudo a encaminhar se  💖', 'trouxavcs caetanorafa1 esse snickers , ah n sdds porto', 'snickers florida', 'comi um snickers e meu piercing tá latejando pra caralho socorroooo vou ficar sem bico do peito', 'kkkkk eu cheguei na escola e uma criança me deu um snickers kkkkkk', 'isaaalves00 é muito ruim um snickers é bem melhor', 'eu não aguento mais essa publicidade do snickers no youtube vão tomar no cu', 'planducci snickers, porque ele tem amendoim,chocolate e caramelo isso me deixa feliz', 'kylebusch snickers acelera', 'refeição do dia hoje foi só snickers e m&amp m', 'snickers snickersbr primeiramente que pq diabos snickers é pra \"matar a fome\" caralho vai comer uma comida um arroz uns vegetais pelo amor de deus segundo que essa merda tem quinze segundos e toca a cada 5 minutos e não da pra pular eu não suporto mais youtubebrasil pelo amor de deus chega', 'rt eunicenhaga1 pretendo ter a mesma pro resto da vida  🙏 🏾 ❤️ https //t co/livbrfvkcz', 'snickers snickersbr youtubebrasil terceiro q snickers é ruim pra caralho', 'só eu que tô puta pelo comercial do snickers que fica repetindo toda hora e não dá pra pular', 'estadao um snickers vale essa aventura pela qual o dimenor passou  😂 mas na próxima pague pelo produto', 'rt jmiranda810 eu gosto do meu cabelo mas as vezes irrita me https //t co/ulwhlaolbd', 'amanda to pobre also amanda hm vô comprá um snickers', 'dani comprou varios snickers pra mim, eu amo uma amiga aaaah  ❤️ ❤️ ❤️', 'giihdosteclados cê gosta de snickers sla ksksksk', 'do nada me deu vontade de comer snickers', 'o alinhamento de chacras que só um snickers te proporciona', 'rt saless02 era só um snickers', 'jessica comprou snickers, cup noodles e suco natural pra mim ver se não é o amor da minha vida mesmo  💗', 'rt israelfilipe06 não to aguentando mais essa propaganda da snickers em todos os vídeos do youtube', 'shawntlado trouxavcs pode ser outro chocolate no lugar dos snickers', 'não aguento mais esses anúncios do snickers no yt vsf', 'to perdendo a paciência com essa propaganda da snickers em todo vídeo no youtube', 'rottenbaby666 ginstavo a capa do cara é um vaporwave do chocolate snickers ( )', 'se existe coisa mais gostosa que snickers eu desconheço', 'vem_ca_milla_ lipe335 quero um snickers tbm', 'gabii__payne lwithp theniallsangel brunozor jullyvitriarib3 affectkookie acho que é snickers ein kkkk', 'não aguento mais propaganda do snickers no yt alguem cancela plmdds', 'rt opskaarol pq snickers é o melhor chocolate com tranquiliade', 'que insuportavel a propaganda do snickers em todo video se eu ver essa merda no supermercado, coloco é fogo cê é louco e ainda nao pula esse inferno https //t co/azrvpgimhd', 'mas que inferno esse anúncio do snickers toda hora aaaaaaaaaa vai tomar no cu', 'queria um snickers', 'nao aguento mais propaganda da snickers no yt nem gosto', 'ktxwct é o de snickers', 'rt gussborges por mim eu viveria só de kitkat e snickers', 'minha mãe me xingo falo q vou ficar doente só pq a única refeição q eu fiz desde cedo foi um snickers tipo oq tem', 'pqp eu não aguento mais a propaganda do snickers no yt', 'reclamei que to gorda e comi tres barrinhas de twix hj mais cedo disse q precisava emagrecer e aqui estou eu comendo um snickers', 'rt tiagorela namorar implica trabalho e dedicação, não é fácil e temos de abdicar de algumas cenas vão haver sempre discussões e problem…', 'andre_snickers não podia estar mais feliz com a vida que tenho contigo  💖', 'eu não aguento mais essa propaganda do snickers no youtube', 'achei um snickers na mochila amém', 'to tao tisti alguem me da snickers', 'rt thaii_xx sério, o anúncio da snickers no yt tá mt chato, eles fazem o bgl pra vender e na real todo mundo vai é ficar c raiva do choco…', 'afim de comer um snickers', 'eu prometo aqui diante de vós que nunca mais vou comer snickers e sempre que ver alguém comendo snickers vou jogar no chão e comprar um twix pra pessoa só por causa dessa porra dessa propaganda chata pra um caralho do youtube espero que entendam snickers snickersbr obrigada', 'queria um snickers', 'eu não aguento mais a propaganda do snickers no you tube socorrrro', 'eu to odiando a snickers', 'alguém me dá um snickers  🥺 🥺 🥺 🥺', 'o plaiyngod ontem me dando snickers pq eu tava estressada https //t co/q1dojdnfcy', 'acabo de tomar um sorvete de snickers e to aqui pensando se na faculdade tem snickers pois vou querer comprar amanhã https //t co/qapqqjzdvv', 'eu pedi pro bruno comprar uns chocolates pro heitor dar pra tia e pedir desculpa e ele comprou um snickers kkkkkkk', 'uma paixão chamada snickers', 'caralho eu nao aguento mais esse ad do snickers', 'todo vídeo no youtube que eu vou ver passa a propaganda da snickers antes e eu só queria dizer que eu pegava os quatro atores da até tristeza', 'vsf snickers é gostoso demais', 'o que eu dava por um snickers agora', 'então eu e o leorio vamos tentar convencer a flowey a comer snickers e o nome do filme é inferno e sim eu tenho uma aplicação pirata e não spotify https //t co/notaxgcsz1 https //t co/4oj0a7jqas', 'ganhei um copo e snickers  😭 😭 ❤️ ❤️ ❤️ ❤️ ❤️', 'rt anamg2402 e eu que fui ao grab e com 1 euro tirei 2 snickers ando com sorte  😂 🍀', 'coyote_snickers o h noo', 'eu não suporto mais essa propaganda de 15 segundos que não dá pra pular da porra do snickers', 'comendo o snickers chorando pq queria que fosse um dogao', 'rt ssantosbiaa é preciso força e fé para aguentar o dia a dia de todas as paranóias, medos, insônias, apertos no peito é tudo menos fraq…', 'affectkookie lwithp theniallsangel brunozor marisenez jullyvitriarib3 hahshah mds eu amo, acho que eh snickers', 'qual propaganda é mais chata a do snickers ou do rappi ainda estou decidindo', 'maduudamaria snickers então nem pensar né', 'ouu fiii n aguento mais essa propaganda de snickers no youtube, já deu irmão para de por esse baguio chatooo', 'não aguento mais esse anúncio chato de snickers pior que irritação de fome é ter que ver esse anúncio em todo vídeo do youtube  🙄', 'uffa q vou ganhar um snickers de grassa do lipe335 hahaha vai perde feio viu', 'o absurdo de hj foi eu entrar numa farmácia aleatório em campo grande so pra me pesar enquanto tava comendo um snickers', 'danielleitef ahah, não vão faltar os snickers mais tarde ou mais cedo entram pro rider técnico  😂 😂', 'rt papi_fabii 1 pacote de gomas, 1 pacote de rebuçados, 1 pacote de snickers e mais de 100 motivos porque te amo foram precisos menos de…', 'eu tenho vontade de mandar pra baixa da égua todos esses heteros da propaganda de youtube do snickers', 'f e ar https //t co/9unwjwoa38', 'minha mãe me mimando com snickers aiiii', 'café da manhã foi prestigio e no almoço três snickers', 'snickers florida', 'jiminsinger poxa tbm viu, aquele de snickers tbm', 'meu deus do céu eu só queria um chocolate sei lá um lollo, um kitkat, podia aer até um snickers q eu nem gosto tanto mas eu só queria um chocolate', 'rt pocrldred se pudesse comprava um par por mês https //t co/moirausgvd', 'nunaoliveira04 trouxavcs  😁 😁 😁 só quero um snickers  😁 😁', 'nao podia estar mais feliz por olhar pro lado todos os dias de manha e estar a mulher da minha vida  🥰 🥰', 'comi um snickers ontem, meu chocolate favorito e que eu nao comia fazia tempo por causa do t a, e nao surtei porque minha melhor amiga comprou um tambem pra comer comigo e nao me deixar sozinha  🥴 🥴 🥴 😔 💕', 'snickers é o melhor chocolate q existe', 'tava de estomago vazio comi um snickers to c diabetes', 'tava com raiva da minha irma mas ai ela comprou um snickers pra mim ta tudo certo agora  👍 👍 👍', 'eu só queria um snickers pra ir correr feliz', 'queria ganhar uma caixa de snickers no meu aniversário  😭', 'viciado em snickers depois do almoço e depois reclamo de espinhas', 'eu não aguento mais ver essa propagando do juca snickers eu te abomino', 'porra snickers ey ja entendi que essa porra tira a fome merda chrga dessa desgraça de anúncio de 15s que nao ds pra pular desse cara se fingindo de criança na porra do carro e para de intrometer nas minhas musicas cacete merda inferno desgraça chegaaaaaaa filha da puta me exaltei', 'rt sarasluiza kitkat &gt kinder bueno &gt twix &gt snickers e quem discorda não tem gosto bom https //t co/0h90sa0leq', 'o kaio meu deu um snickers pq eu tava de tpm q fofo cara chorei', 'graças ao joão eu pude matar minha vontade de comer snickers ele é um ótimo amigo serio', 'snickers é mt bom', 'to comendo o snickers que a amanda me deu', 'so deus sabe o que eu faria por um snickers agora', '2 minha sobremesa favorita é praticamente tudo que for docinho vai desde diamante negro, ouro branco, snickers, amendoim com caramelo até pudinzinho ou sagu', 'véi esse comercial da snickers eu faço questão de deixar pqp que publicidade engraçada da porra kk', 'g_haueer comprou um snickers pra desestressar', 'mano eu nao aguento mais essa propaganda do snickers eu soh quero ver meus video infernooooo', 'snickers é o melhor chocolate do milênio e só a minha opinião importa', 'rt papi_fabii 1 pacote de gomas, 1 pacote de rebuçados, 1 pacote de snickers e mais de 100 motivos porque te amo foram precisos menos de…', 'saudade de quando eu pagava 1 real em snickers comprava 5 e era feliz', 'rhaizaaguiar hambúrguer podrão e snickers', 'era só um doce de amendoim na minha vida  😍 😢 snickers daria qualquer coisa pra ganhar  😢 minha tpm pede esse doce kakaak', 'rt qatslol campanharosaulo ucuncunco hmmm tá chegando, tá chegando, tá chegando pedrinho, coma um snickers ele sempre fica fora de…', 'campanharosaulo ucuncunco hmmm tá chegando, tá chegando, tá chegando pedrinho, coma um snickers ele sempre fica fora de si quando está com fome como se sente agora bem melhor você não é você quando está com fome, snickers mata sua fome', 'eu so quero um snickers', 'o chocolate snickers é bom demais', 'snickers é mt bom', 'knotlepletier faz um de snickers, é meu fav (mas esse quero também)', 'sg_xayah não tô em casa ainda mas quando chegar vou ir very putasso tô com duas latas de monster aqui uns snickers e um cartão de rp', 'a publicidade dos snickers é incrível', 'gwenmabi nao mas posso te comprar um snickers', 'acabei de ver a uma propaganda do snickers, q têm o slogam vc n é vc quando tá com fome e pensei como ainda n chamaram a nilmoretto pra fazer essa propaganda, seria a junção perfeita rsrsrsrs', 'essa propaganda do snickers é uma bosta', 'rt swellkashtrigga pringles, oreos, snickers, cereais, iced tea, leite o pior é q vai tudo seguido https //t co/pdw6skrjae', 'comer snickers e tomar café 🤧 🖤 combinação perfeita', 'só queria um snickers agora', 'essa propaganda do snickers é um inferno pqp q negócio chato vsfd', 'que vontade de comer snickers', 'joegibbsracing snickers kylebusch tootoughtotame carro lindo o melhor piloto kyle busch show  💚 🏁 🇧 🇷', 'alguém da um caminhão de snickers pro felipe melo, pelo amor de deus não aguento mais essa porra de propaganda no youtube', 'acabei de devorar um kit kat e um snickers eu sou um monstro de gula', 'koe snickers já to ficando puto, propaganda chata do caralho https //t co/kxmi25zyop', 'snickers é o melhor chocolate do mundo', 'comprei dois snickers to feliz neguinha', 'rt simplesmentesyl depois daquele almoço gostoso, bora saborear um snickers  🍫 #adooro 😋 #tardeebooa 😍 https //t co/mxiw9lcrdt', 'fiz um bolo de snickers pra minha que ficou uma falta de respeito', 'rt gussborges por mim eu viveria só de kitkat e snickers', 'eu não aguento mais ver anúncios de snickers no youtube https //t co/snk0d23xtv', 'isabelaplss roubo é roubo umas chicotadas dessas doem menos q umas chineladas da mãe não é tortura, é um pequeno corretivo e educativo esse aí nunca mais rouba um snickers  😅', 'que anuncio bosta em snickers pqp tinha ideia melhor n', 'snickers para de atrapalhar os vídeos do youtube pf', 'rt ilacamis não tem nenhum psicólogo de dm do twitter online aí pra me ajudar psicologicamente com uma caixa de snickers e/ou dinheiro pr…', 'rt soy_ruanita + e o que ele faz apanha o 5m com dois snickers na mão e (não querendo me gabar) com uma grande vontade de estar comigo,…', 'meu chocolate favorito eh snickers', 'omds ontem pedi os snickers e ele foi comprar mesmo ahah adoro', 'que odio dessa propaganda do snickers aaaaaaaa', '_zombrownie faz que nem eu snickers, mto snickers', 'andre_snickers que bem sabe meu amor  💖', 'floratuitando wwwmlna pior que isso é a propaganda dos snickers', 'dps q a amanda me deu snickers eu ñ consigo mais ficar uma semana sem comer', '_marjomarjo inicialmente todo mundo ri dos inovadores, mas depois copia afinal, como você come snickers com as mãos', 'comi um snickers que tinha gosto de cachaça  🤔', 'não suporto mais aquele anúncio do snickers em todo vídeo do youtube', 'duvido alguém me dar um snickers', '+ e o que ele faz apanha o 5m com dois snickers na mão e (não querendo me gabar) com uma grande vontade de estar comigo, apesar de hoje de manhã ter tido o treino dele, ou seja, é preciso mesmo grande coração para fazer o que ele fez por mim  😊 e quando o vejo do lado de fora +', 'coyote_snickers skskskskskskss', 'quando eu virar bloguerinha vou querer ser patrocinada pela snickers', 'eu disse q amava fumar no cachimbo ai hj a consagrada me da um piper perfeito e ainda me da um snickers porra me leva logo', 'tenho um vício por snickers', 'eu não aguento mais essa propaganda de snickers', 'snickers é o melhor chocolate sim e so minha opiniao importa', 'd3isiane trouxavcs se vc me der so snickers, fini e doritos eu já fico feliz', 'rt coasttmartim as mães sabem sempre quem são os falsos primero q nós https //t co/luatd2uwj3', 'parabens snickers conseguiu fazer duas propagandas insuportaveis que estao em todos os videos', 'rt arnomizuno propaganda da snickers \"você não é você quando está com fome\" eu, que estou sempre com fome tendo uma crise existencial …', 'tita_jpg claro que parece, isto é um plágio do anúncio da snickers  🤣', 'rt soy_ruanita nunca pensei ter uma pessoa tão fantástica a meu lado como o meu namorado fds, reparem só nisto, ontem publiquei um tt a d…', 'diogomlbernardo ó diogo, eu até costumo concordar contigo mas este tweet deu me tonturas trocava o coates por um snickers e até podia ser daqueles pequeninos', 'eu quero 1 snickers https //t co/dkdfr2yloq', 'eu tava numa vontade absurda de snickers desde semana passada, quando eu me recusei dar cinco reais em um lá em itapecerica', 'comprei um snickers pra minha amiga pois lembrei dela e fui retribuida com cafune a aula inteira = tudo', 'ja ta insuportável esse anúncio do snickers', 'cansada daquele anuncio no youtube de snickers, pra que 15 segundos de anuncio e sem poder pulaaaaaarrrr', 'crl mlk essa propaganda do snickers no youtube me da vontade de tacar o celular na parede', 'dia de pagamento chegando e eu só consigo pensar em quantos snickers eu vo compra', '_carlotsbf_ qr os snickers e os doritos, obrigada', 'alguém percebeu uma mensagem subliminar num anúncio do snickers mais um bando de esquerdopatas', 'da nem pra ouvir umas bad no youtube q do nada da o anúncio do snickers e corta todo clima', 'araniat_ pede um snickers que eu dou agora ferreiro rocher estou desempregada', 'era só um snickers', 'eu só quero assistir vídeo no yt sem ser interrompida com a porra do anúncio da snickers', 'só queria comer snickers', 'hj comi 1 cornetto de snickers, 1 snickers e metade da barra de um alpino acho q vo ficar enjoada ate amanha cedo, o bom eh q agr q matei a vontade vou ficar bons dias sem querer doce', 'snickers vocês compraram o youtube caralho eu não aguento mais não quero saber daqueles autistas no carro ou se snickers mata a fome eu não aguento mais 15seg de vídeo sem poder pular vai tomar no cu', 'eu simplesmente tenho a melnor namorada do mundo por me dar snickers', 'primeiras compras para a casa nova com a minha menina, nao podia estar mais feliz  🥰', 'imaginem 15 portugueses num supermercado húngaro a descobrirem que havia batatas a 27 cêntimos e a esvaziar prateleiras inteiras para dentro de um carrinho exato os kitkats, snickers etc tb eram 27 centimos (cerca de 100forints)', 'babi o snickers não vai te encher e vc vai ter que procurar outra coisa dps come o miojo, bebe um suquinho e tá pronta prum novo dia', 'rt soy_ruanita nunca pensei ter uma pessoa tão fantástica a meu lado como o meu namorado fds, reparem só nisto, ontem publiquei um tt a d…', 'na hora da prova o ribeiro tirou uma barrinha de coco aí eu só sussurrei pra ele \"troca essa barrinha de coco pelo meu snickers\" kkkkkkk', 'minha janta foi banana com iogurte e granola e um snickers, pq será que eu to com ânsia de vômito  🤠', 'rt catsant0s deu à luz o amor da minha vida https //t co/jhvmfmfw8r', 'fomos no extra, e compramos 1 salgadinho 1 coca, pao e requeijao, mas chegou em casa tinha snickers, kit kat, nescau, leite moça, bolinho, suco, lapis de cor, borracha de unicornio lapis e grafite', 'rt amanda_saamp minha princesa comprou snickers pra mim 🤤 🥰 💙', 'eu nunca mais vou comer snickers na vida de tanto que eu vi a merda daquela propaganda', 'rt isabellaporto19 o de snickers é o melhor e nada mais interessa além da minha opinião https //t co/qm7gosiile', '\"baza falar por stickers ta me a apetecer snickers\"  🔥 🔥 chiça quente ganda barra do meu tropa palma', 'não to aguentando mais essa propaganda da snickers em todos os vídeos do youtube', 'que vontade de um snickers', 'eu esperando a propaganda insuportável de snickers acabar de passar no vídeo https //t co/d0zqzsmpgu', 'rt fearsarefears blxckgirls no dia eu levei chiclete, biscoito toddy e snickers só porcaria, tá certíssima e ce vai passar com ctz', 'eu acabei de sair na garoa pra comprar um snickers kkkkk', 'meninas tão obcecadas com doce que contribuíram r$3,75 pro capitalismo só pra comprar um mísero snickers', 'diogolimacrf beleza, leva um snickers pra mim hj', 'rt mayer_anaa snickers é o melhor chocolate do mundo', 'vontade de comer sorvete snickers com batata lay’s  😭 😭 😭', 'o snickers é o melhor chocolate da face da terra fonte vozes de uma larica  🤪', 'rt v1llalbaa só queria comer snickers', 'marcelo comprou snickers p mim e p cecilia so q eu n gosto ai o meu ta la jogado no armario', 'sério, o anúncio da snickers no yt tá mt chato, eles fazem o bgl pra vender e na real todo mundo vai é ficar c raiva do chocolate o negócio não paraaaa e n da pra pular, 15 segundos insuportáveis relvoltei', 'que ódio dessa propaganda do snickers no youtube', 'meu almoço vai se 2 epocler e uma barra de snickers', 'criiis_sampaio xtrmlars rodrigofurtoso estadao nossa, então segundo a lei eu posso ir agora no mercado e comer umas barras de chocolate e sair de boa sem pagar hahahahaha, mds nosso código penal é o melhor do mundo snickers ou milkway qual eu devo começar talvez uma caixa de ferrero rocher só p abrir o apetite', 'chocolate snickers é muito bom  ❤️', 'mnngarc amiga, eu simplesmente quebrei um dente comendo snickers', 'ssavcld snickers de surpresa pq rosquinha com leitinho já teve agorinha', 'finalmente matei minha vontade de comer snickers', 'se você precisasse comer uma barra de snickers por hora pra ficar vivo, como seguiria sua vida — nossa bicho eu ia virar aquele bicho do ben 10 que é uma bola e sairia rolando https //t co/antf6axl4s', 'que propaganda chata do caraio essa da snickers brasil mermão', 'rt papi_fabii 1 pacote de gomas, 1 pacote de rebuçados, 1 pacote de snickers e mais de 100 motivos porque te amo foram precisos menos de…', 'ba o mercadinho aberto na volta da facul me salvou, comprei um snickers', 'rt luccacaumo snickers é o melhor chocolate q existe', 'se snickers fosse uma droga eu seria a dona do moro  🍫', 'rt eraumavezcitou dê rt em 5 segundos e você terá dinheiro o ano inteiro https //t co/oucehufvcm', 'eu amo snickers cara  😍 😍', 'gente e a helena que me deu uma barrinha de snickers, eu amo esta menina', 'amigos q vem te ver e trás açaí e um monte de snickers  ❤ ❤ ❤ ❤ ❤ https //t co/byqhoresa8', 'rt _limazzz quem eh que vai me da snickers https //t co/vsxsbxwwj8', 'me dei um snickers de presente estou feliz', 'rt papi_fabii 1 pacote de gomas, 1 pacote de rebuçados, 1 pacote de snickers e mais de 100 motivos porque te amo foram precisos menos de…']\n"
     ]
    }
   ],
   "source": [
    "# search your emoji\n",
    "def is_emoji(s):\n",
    "    return s in UNICODE_EMOJI\n",
    "\n",
    "# add space near your emoji\n",
    "def add_space(text):\n",
    "    return ''.join(' ' + char if is_emoji(char) else char for char in text).strip()\n",
    "\n",
    "results=[add_space(text) for text in t_limpos]\n",
    "\n",
    "print(results)"
   ]
  },
  {
   "cell_type": "markdown",
   "metadata": {},
   "source": [
    "# Tabela com limpeza e relevância"
   ]
  },
  {
   "cell_type": "code",
<<<<<<< HEAD
   "execution_count": 12,
=======
   "execution_count": 20,
>>>>>>> 7d6475bb49b6986b495f156cfc7463a4eb500bcb
   "metadata": {},
   "outputs": [
    {
     "data": {
      "text/html": [
       "<div>\n",
       "<style scoped>\n",
       "    .dataframe tbody tr th:only-of-type {\n",
       "        vertical-align: middle;\n",
       "    }\n",
       "\n",
       "    .dataframe tbody tr th {\n",
       "        vertical-align: top;\n",
       "    }\n",
       "\n",
       "    .dataframe thead th {\n",
       "        text-align: right;\n",
       "    }\n",
       "</style>\n",
       "<table border=\"1\" class=\"dataframe\">\n",
       "  <thead>\n",
       "    <tr style=\"text-align: right;\">\n",
       "      <th></th>\n",
       "      <th>Treinamento</th>\n",
       "      <th>Relevância</th>\n",
       "    </tr>\n",
       "  </thead>\n",
       "  <tbody>\n",
       "    <tr>\n",
       "      <th>0</th>\n",
       "      <td>tiagoatoc nunca pensei que me mandasses comer ...</td>\n",
       "      <td>0</td>\n",
       "    </tr>\n",
       "    <tr>\n",
       "      <th>1</th>\n",
       "      <td>credo q eu acordei sem paciência, e já to come...</td>\n",
       "      <td>0</td>\n",
       "    </tr>\n",
       "    <tr>\n",
       "      <th>2</th>\n",
       "      <td>samyra me deu batata frita com cheddar e bacon...</td>\n",
       "      <td>1</td>\n",
       "    </tr>\n",
       "    <tr>\n",
       "      <th>3</th>\n",
       "      <td>crlh acabei de descobrir q tem sorvete de snic...</td>\n",
       "      <td>1</td>\n",
       "    </tr>\n",
       "    <tr>\n",
       "      <th>4</th>\n",
       "      <td>yenexiel ninguém compra snickers pra mim quand...</td>\n",
       "      <td>0</td>\n",
       "    </tr>\n",
       "  </tbody>\n",
       "</table>\n",
       "</div>"
      ],
      "text/plain": [
       "                                         Treinamento  Relevância\n",
       "0  tiagoatoc nunca pensei que me mandasses comer ...           0\n",
       "1  credo q eu acordei sem paciência, e já to come...           0\n",
       "2  samyra me deu batata frita com cheddar e bacon...           1\n",
       "3  crlh acabei de descobrir q tem sorvete de snic...           1\n",
       "4  yenexiel ninguém compra snickers pra mim quand...           0"
      ]
     },
<<<<<<< HEAD
     "execution_count": 12,
=======
     "execution_count": 20,
>>>>>>> 7d6475bb49b6986b495f156cfc7463a4eb500bcb
     "metadata": {},
     "output_type": "execute_result"
    }
   ],
   "source": [
    "t_tr = pd.DataFrame({\"Treinamento\": t_limpos,\"Relevância\": rel})\n",
    "t_tr.head()"
   ]
  },
  {
   "cell_type": "markdown",
   "metadata": {},
   "source": [
    "# Tweets Relevantes Limpos e frequência de suas Palavras"
   ]
  },
  {
   "cell_type": "code",
<<<<<<< HEAD
   "execution_count": 13,
=======
   "execution_count": 21,
>>>>>>> 7d6475bb49b6986b495f156cfc7463a4eb500bcb
   "metadata": {},
   "outputs": [
    {
     "data": {
      "text/html": [
       "<div>\n",
       "<style scoped>\n",
       "    .dataframe tbody tr th:only-of-type {\n",
       "        vertical-align: middle;\n",
       "    }\n",
       "\n",
       "    .dataframe tbody tr th {\n",
       "        vertical-align: top;\n",
       "    }\n",
       "\n",
       "    .dataframe thead th {\n",
       "        text-align: right;\n",
       "    }\n",
       "</style>\n",
       "<table border=\"1\" class=\"dataframe\">\n",
       "  <thead>\n",
       "    <tr style=\"text-align: right;\">\n",
       "      <th></th>\n",
       "      <th>Treinamento</th>\n",
       "      <th>Relevância</th>\n",
       "    </tr>\n",
       "  </thead>\n",
       "  <tbody>\n",
       "    <tr>\n",
       "      <th>2</th>\n",
       "      <td>samyra me deu batata frita com cheddar e bacon...</td>\n",
       "      <td>1</td>\n",
       "    </tr>\n",
       "    <tr>\n",
       "      <th>3</th>\n",
       "      <td>crlh acabei de descobrir q tem sorvete de snic...</td>\n",
       "      <td>1</td>\n",
       "    </tr>\n",
       "    <tr>\n",
       "      <th>6</th>\n",
       "      <td>rt thaii_xx sério, o anúncio da snickers no yt...</td>\n",
       "      <td>1</td>\n",
       "    </tr>\n",
       "    <tr>\n",
       "      <th>7</th>\n",
       "      <td>rt amandinhavr eu esperando a propaganda insup...</td>\n",
       "      <td>1</td>\n",
       "    </tr>\n",
       "    <tr>\n",
       "      <th>8</th>\n",
       "      <td>não aguento mais esses anúncios da snickers, n...</td>\n",
       "      <td>1</td>\n",
       "    </tr>\n",
       "  </tbody>\n",
       "</table>\n",
       "</div>"
      ],
      "text/plain": [
       "                                         Treinamento  Relevância\n",
       "2  samyra me deu batata frita com cheddar e bacon...           1\n",
       "3  crlh acabei de descobrir q tem sorvete de snic...           1\n",
       "6  rt thaii_xx sério, o anúncio da snickers no yt...           1\n",
       "7  rt amandinhavr eu esperando a propaganda insup...           1\n",
       "8  não aguento mais esses anúncios da snickers, n...           1"
      ]
     },
<<<<<<< HEAD
     "execution_count": 13,
=======
     "execution_count": 21,
>>>>>>> 7d6475bb49b6986b495f156cfc7463a4eb500bcb
     "metadata": {},
     "output_type": "execute_result"
    }
   ],
   "source": [
    "t_rel= t_tr[(t_tr.Relevância==1)]\n",
    "t_rel.head()"
   ]
  },
  {
   "cell_type": "code",
<<<<<<< HEAD
   "execution_count": 14,
=======
   "execution_count": 22,
>>>>>>> 7d6475bb49b6986b495f156cfc7463a4eb500bcb
   "metadata": {},
   "outputs": [
    {
     "data": {
      "text/plain": [
       "0    samyra\n",
       "1        me\n",
       "2       deu\n",
       "3    batata\n",
       "4     frita\n",
       "dtype: object"
      ]
     },
<<<<<<< HEAD
     "execution_count": 14,
=======
     "execution_count": 22,
>>>>>>> 7d6475bb49b6986b495f156cfc7463a4eb500bcb
     "metadata": {},
     "output_type": "execute_result"
    }
   ],
   "source": [
    "serie_tweets = ' '.join(t_rel.loc[:,\"Treinamento\"])\n",
    "a = pd.Series(serie_tweets.split())\n",
    "a.head()"
   ]
  },
  {
   "cell_type": "code",
<<<<<<< HEAD
   "execution_count": 15,
=======
   "execution_count": 23,
>>>>>>> 7d6475bb49b6986b495f156cfc7463a4eb500bcb
   "metadata": {},
   "outputs": [
    {
     "data": {
      "text/plain": [
       "snickers    166\n",
       "de           92\n",
       "eu           69\n",
       "do           62\n",
       "e            55\n",
       "dtype: int64"
      ]
     },
<<<<<<< HEAD
     "execution_count": 15,
=======
     "execution_count": 23,
>>>>>>> 7d6475bb49b6986b495f156cfc7463a4eb500bcb
     "metadata": {},
     "output_type": "execute_result"
    }
   ],
   "source": [
    "a.value_counts().head()"
   ]
  },
  {
   "cell_type": "code",
   "execution_count": 24,
   "metadata": {},
   "outputs": [
    {
     "data": {
      "text/plain": [
       "snickers    0.066188\n",
       "de          0.036683\n",
       "eu          0.027512\n",
       "do          0.024721\n",
       "e           0.021930\n",
       "dtype: float64"
      ]
     },
     "execution_count": 24,
     "metadata": {},
     "output_type": "execute_result"
    }
   ],
   "source": [
    "tabela_tweets_relativa = a.value_counts(True)\n",
    "tabela_tweets_relativa.head()"
   ]
  },
  {
   "cell_type": "code",
   "execution_count": 25,
<<<<<<< HEAD
   "metadata": {},
   "outputs": [
    {
     "data": {
      "text/plain": [
       "{'amigas': -46.13376843222214,\n",
       " 'ontem': -31.47816086843216,\n",
       " 'choco…': -72.2972640101915,\n",
       " 'co/d0zqzsmpgu': -33.70801821633679,\n",
       " 'pular': -45.43582573513992,\n",
       " 'aumentado': -19.435486280793544,\n",
       " 'vezes': -41.39833315419738,\n",
       " 'de…': -58.884815143948266,\n",
       " 'chaaato': -8.982750359768444,\n",
       " 'saco': -47.215128104866864,\n",
       " 'youtube': -16.463120841852405,\n",
       " 'snickers': -33.73624746062496,\n",
       " 'chocolate': -74.67445837683165,\n",
       " 'algo': -25.589486095158435,\n",
       " '❤': -13.030225689621691,\n",
       " '🍫🥜': -14.412728728112882,\n",
       " 'tudo': -51.15472294864763,\n",
       " 'bom': -8.195358452649888,\n",
       " 'eu': -21.612747879232504,\n",
       " 'quarto': -38.68120776942926,\n",
       " '😫🤧😔': -12.357459639470669,\n",
       " '😭😭😭😭😭😭😭': -24.903259948655617,\n",
       " 'co/mxiw9lcrdt': -42.84483034400397,\n",
       " 'kkk': -24.50278321224183,\n",
       " 'nada': -24.62189240518941,\n",
       " 'terapia': -63.83456975014921,\n",
       " 'gata': -87.93307991229406,\n",
       " 'mais': -54.83423254968933,\n",
       " 'dá': -18.19752522925858,\n",
       " 'msm': -37.772044502481904,\n",
       " '😒': -58.110605781625964,\n",
       " 'melhor': -21.507725405514076,\n",
       " 'cu': -88.51440497078818,\n",
       " 'feliz': -18.669448131162135,\n",
       " 'chega': -132.26774413761282,\n",
       " 'caralho': -23.30470327970531,\n",
       " 'produto': -51.426025582093644,\n",
       " '❤️❤️❤️': -31.684189696230675,\n",
       " '💗': -54.702805388420295,\n",
       " 'vsf': -21.659998015846785,\n",
       " 'desconheço': -21.284082910949945,\n",
       " 'plmdds': -24.469500013094514,\n",
       " 'tranquiliade': -23.299422245136494,\n",
       " 'co/azrvpgimhd': -76.57014511767512,\n",
       " 'gosto': -21.054602107442037,\n",
       " 'yt': -20.755589658965555,\n",
       " 'amém': -15.305453199632991,\n",
       " 'obrigada': -21.376816983303865,\n",
       " 'socorrrro': -25.7569771824522,\n",
       " 'co/qapqqjzdvv': -59.90476199609287,\n",
       " 'demais': -12.656354625941102,\n",
       " 'agora': -10.19492120672128,\n",
       " 'decidindo': -33.07211608596362,\n",
       " 'chatooo': -49.571854252721934,\n",
       " '🙄': -56.46117287533218,\n",
       " '😁😁': -20.74508632130868,\n",
       " '🥴🥴🥴😔💕': -96.62308751733072,\n",
       " 'existe': -20.025033449586115,\n",
       " '👍👍👍': -49.1595665793267,\n",
       " '😭': -24.262205500632408,\n",
       " 'espinhas': -26.547553290649553,\n",
       " 'abomino': -28.776002244145253,\n",
       " 'exaltei': -134.62733394569244,\n",
       " 'co/0h90sa0leq': -54.193057542353074,\n",
       " 'chorei': -36.929801407121126,\n",
       " 'serio': -44.52605482651441,\n",
       " 'sagu': -71.49007163287537,\n",
       " 'kk': -43.07748189707585,\n",
       " 'infernooooo': -37.54233897545732,\n",
       " 'importa': -25.988350311178372,\n",
       " 'kakaak': -61.26384047232415,\n",
       " 'também)': -31.296299191487275,\n",
       " 'incrível': -14.340801003191903,\n",
       " 'bosta': -13.564819710764796,\n",
       " 'perfeita': -17.989723907562198,\n",
       " 'vsfd': -27.490394015732747,\n",
       " 'gula': -35.18709986362321,\n",
       " 'co/kxmi25zyop': -33.385716896250585,\n",
       " 'mundo': -19.107703023479562,\n",
       " 'neguinha': -15.754253178042187,\n",
       " 'co/snk0d23xtv': -27.07394893875707,\n",
       " 'n': -25.468676705773248,\n",
       " 'pf': -21.542843743899073,\n",
       " 'pr…': -60.71013722903911,\n",
       " 'aaaaaaaa': -15.937694907558187,\n",
       " 'comer': -38.968473860055255,\n",
       " 'logo': -65.39391209049722,\n",
       " 'videos': -37.84275056130497,\n",
       " 'co/dkdfr2yloq': -15.470763084590324,\n",
       " 'itapecerica': -58.521687915458166,\n",
       " 'pulaaaaaarrrr': -41.236862659781934,\n",
       " 'parede': -39.38365376561804,\n",
       " 'compra': -37.56058692297199,\n",
       " 'esquerdopatas': -35.16862360021535,\n",
       " 'clima': -46.882913696077296,\n",
       " 'doce': -102.49673207768528,\n",
       " 'dia': -76.18914012570718,\n",
       " 'kkkkkkk': -67.96526537753947,\n",
       " '🤠': -54.25420554534482,\n",
       " 'mim🤤🥰💙': -20.114054373805907,\n",
       " 'propaganda': -38.58010482392406,\n",
       " 'co/qm7gosiile': -44.21101708111435,\n",
       " 'kkkkk': -25.727132235620655,\n",
       " '😭😭😭': -22.268288643766713,\n",
       " '🤪': -38.88762598651109,\n",
       " 'relvoltei': -100.32162697093808,\n",
       " '❤️': -13.886803547319378,\n",
       " 'co/antf6axl4s': -102.99197943035605,\n",
       " 'mermão': -23.30265795695769,\n",
       " '🍫': -30.689673817927726,\n",
       " '😍😍': -11.557469240304478,\n",
       " 'menina': -36.44624125986112}"
      ]
     },
     "execution_count": 25,
     "metadata": {},
     "output_type": "execute_result"
    }
   ],
   "source": [
    "dic_log = {}\n",
    "for frase in t_rel.Treinamento:\n",
    "    frase_d=frase.split()\n",
    "    freq_log = 0 \n",
    "    for palavra in frase_d:\n",
    "        if palavra in tabela_tweets_relativa:\n",
    "            freq_log += np.log10(tabela_tweets_relativa[palavra])\n",
    "    dic_log[palavra] = freq_log\n",
    "dic_log\n"
   ]
  },
  {
   "cell_type": "code",
   "execution_count": 17,
=======
>>>>>>> 7d6475bb49b6986b495f156cfc7463a4eb500bcb
   "metadata": {},
   "outputs": [
    {
     "name": "stdout",
     "output_type": "stream",
     "text": [
      "0.06618819776714513\n",
      "0.03668261562998405\n",
      "0.02751196172248804\n",
      "0.024720893141945772\n"
     ]
    }
   ],
   "source": [
    "imprime = 4\n",
    "for palavra in tabela_tweets_relativa.index:\n",
    "    if imprime:\n",
    "        print(tabela_tweets_relativa[palavra])\n",
    "        imprime-=1"
   ]
  },
  {
   "cell_type": "markdown",
   "metadata": {},
   "source": [
    "# Tweets não Relevantes Limpos e frequência de suas Palavras"
   ]
  },
  {
   "cell_type": "code",
<<<<<<< HEAD
   "execution_count": 18,
=======
   "execution_count": 26,
>>>>>>> 7d6475bb49b6986b495f156cfc7463a4eb500bcb
   "metadata": {},
   "outputs": [
    {
     "data": {
      "text/html": [
       "<div>\n",
       "<style scoped>\n",
       "    .dataframe tbody tr th:only-of-type {\n",
       "        vertical-align: middle;\n",
       "    }\n",
       "\n",
       "    .dataframe tbody tr th {\n",
       "        vertical-align: top;\n",
       "    }\n",
       "\n",
       "    .dataframe thead th {\n",
       "        text-align: right;\n",
       "    }\n",
       "</style>\n",
       "<table border=\"1\" class=\"dataframe\">\n",
       "  <thead>\n",
       "    <tr style=\"text-align: right;\">\n",
       "      <th></th>\n",
       "      <th>Treinamento</th>\n",
       "      <th>Relevância</th>\n",
       "    </tr>\n",
       "  </thead>\n",
       "  <tbody>\n",
       "    <tr>\n",
       "      <th>0</th>\n",
       "      <td>tiagoatoc nunca pensei que me mandasses comer ...</td>\n",
       "      <td>0</td>\n",
       "    </tr>\n",
       "    <tr>\n",
       "      <th>1</th>\n",
       "      <td>credo q eu acordei sem paciência, e já to come...</td>\n",
       "      <td>0</td>\n",
       "    </tr>\n",
       "    <tr>\n",
       "      <th>4</th>\n",
       "      <td>yenexiel ninguém compra snickers pra mim quand...</td>\n",
       "      <td>0</td>\n",
       "    </tr>\n",
       "    <tr>\n",
       "      <th>5</th>\n",
       "      <td>se tu roubar uma birosca dentro da favela os c...</td>\n",
       "      <td>0</td>\n",
       "    </tr>\n",
       "    <tr>\n",
       "      <th>15</th>\n",
       "      <td>a casa do jovem surtado se resume a pacotes de...</td>\n",
       "      <td>0</td>\n",
       "    </tr>\n",
       "  </tbody>\n",
       "</table>\n",
       "</div>"
      ],
      "text/plain": [
       "                                          Treinamento  Relevância\n",
       "0   tiagoatoc nunca pensei que me mandasses comer ...           0\n",
       "1   credo q eu acordei sem paciência, e já to come...           0\n",
       "4   yenexiel ninguém compra snickers pra mim quand...           0\n",
       "5   se tu roubar uma birosca dentro da favela os c...           0\n",
       "15  a casa do jovem surtado se resume a pacotes de...           0"
      ]
     },
<<<<<<< HEAD
     "execution_count": 18,
=======
     "execution_count": 26,
>>>>>>> 7d6475bb49b6986b495f156cfc7463a4eb500bcb
     "metadata": {},
     "output_type": "execute_result"
    }
   ],
   "source": [
    "t_n_rel= t_tr[(t_tr.Relevância==0)]\n",
    "t_n_rel.head()"
   ]
  },
  {
   "cell_type": "code",
<<<<<<< HEAD
   "execution_count": 19,
=======
   "execution_count": 27,
>>>>>>> 7d6475bb49b6986b495f156cfc7463a4eb500bcb
   "metadata": {},
   "outputs": [
    {
     "data": {
      "text/plain": [
       "0    samyra\n",
       "1        me\n",
       "2       deu\n",
       "3    batata\n",
       "4     frita\n",
       "dtype: object"
      ]
     },
<<<<<<< HEAD
     "execution_count": 19,
=======
     "execution_count": 27,
>>>>>>> 7d6475bb49b6986b495f156cfc7463a4eb500bcb
     "metadata": {},
     "output_type": "execute_result"
    }
   ],
   "source": [
    "serie_tweets_n_rel = ' '.join(t_n_rel.loc[:,\"Treinamento\"])\n",
    "a_n_rel = pd.Series(serie_tweets_n_rel.split())\n",
    "a.head()"
   ]
  },
  {
   "cell_type": "code",
<<<<<<< HEAD
   "execution_count": 20,
=======
   "execution_count": 28,
>>>>>>> 7d6475bb49b6986b495f156cfc7463a4eb500bcb
   "metadata": {},
   "outputs": [
    {
     "data": {
      "text/plain": [
       "snickers    101\n",
       "e            64\n",
       "um           54\n",
       "de           51\n",
       "o            40\n",
       "dtype: int64"
      ]
     },
<<<<<<< HEAD
     "execution_count": 20,
=======
     "execution_count": 28,
>>>>>>> 7d6475bb49b6986b495f156cfc7463a4eb500bcb
     "metadata": {},
     "output_type": "execute_result"
    }
   ],
   "source": [
    "a_n_rel.value_counts().head()"
   ]
  },
  {
   "cell_type": "code",
<<<<<<< HEAD
   "execution_count": 21,
=======
   "execution_count": 29,
>>>>>>> 7d6475bb49b6986b495f156cfc7463a4eb500bcb
   "metadata": {},
   "outputs": [
    {
     "data": {
      "text/plain": [
       "snickers    0.052089\n",
       "e           0.033007\n",
       "um          0.027849\n",
       "de          0.026302\n",
       "o           0.020629\n",
       "dtype: float64"
      ]
     },
<<<<<<< HEAD
     "execution_count": 21,
=======
     "execution_count": 29,
>>>>>>> 7d6475bb49b6986b495f156cfc7463a4eb500bcb
     "metadata": {},
     "output_type": "execute_result"
    }
   ],
   "source": [
    "tabela_tweets_relativa_n_rel = a_n_rel.value_counts(True)\n",
    "tabela_tweets_relativa_n_rel.head()"
   ]
  },
  {
   "cell_type": "code",
<<<<<<< HEAD
   "execution_count": 22,
=======
   "execution_count": 30,
>>>>>>> 7d6475bb49b6986b495f156cfc7463a4eb500bcb
   "metadata": {},
   "outputs": [
    {
     "name": "stdout",
     "output_type": "stream",
     "text": [
      "0.05208870551830841\n",
      "0.03300670448684889\n",
      "0.02784940691077875\n",
      "0.02630221763795771\n"
     ]
    }
   ],
   "source": [
    "imprime = 4\n",
    "for palavra in tabela_tweets_relativa_n_rel.index:\n",
    "    if imprime:\n",
    "        print(tabela_tweets_relativa_n_rel[palavra])\n",
    "        imprime-=1"
   ]
  },
  {
   "cell_type": "code",
<<<<<<< HEAD
   "execution_count": 23,
=======
   "execution_count": 31,
>>>>>>> 7d6475bb49b6986b495f156cfc7463a4eb500bcb
   "metadata": {},
   "outputs": [
    {
     "data": {
      "text/plain": [
       "{'sinceramente': -11.625032159823007,\n",
       " 'manhã': -22.341382369863023,\n",
       " 'amigas': -46.13376843222214,\n",
       " 'ontem': -31.47816086843216,\n",
       " 'triste': -18.559824881661484,\n",
       " 'co/pirvh7zgb8': -56.06720550470424,\n",
       " 'choco…': -72.2972640101915,\n",
       " 'co/d0zqzsmpgu': -33.70801821633679,\n",
       " 'pular': -45.43582573513992,\n",
       " 'aumentado': -19.435486280793544,\n",
       " 'vezes': -41.39833315419738,\n",
       " 'de…': -58.884815143948266,\n",
       " 'chaaato': -8.982750359768444,\n",
       " 'saco': -47.215128104866864,\n",
       " 'youtube': -16.463120841852405,\n",
       " 'casa': -20.622024989946695,\n",
       " 'snickers': -33.73624746062496,\n",
       " 'co/x3lype9gos': -20.595447397618287,\n",
       " 'chocolate': -74.67445837683165,\n",
       " 'desculpa': -29.74355664667419,\n",
       " 'coisas': -26.237833773453943,\n",
       " 'sei': -54.98270152712966,\n",
       " '🤣🥳🤪': -9.641015291754554,\n",
       " 'dia': -76.18914012570718,\n",
       " 'algo': -25.589486095158435,\n",
       " '❤': -13.030225689621691,\n",
       " '🍫🥜': -14.412728728112882,\n",
       " 'cigaro': -6.188287611898838,\n",
       " 'moreh': -18.368216811541945,\n",
       " 'co/pdw6skrjae': -23.213105305625863,\n",
       " 'co/s41f9egcve': -21.062022487731156,\n",
       " 'tudo': -51.15472294864763,\n",
       " 'vida': -18.063872652137448,\n",
       " 'bom': -8.195358452649888,\n",
       " 'co/uv9fdxhcir': -56.57437949472629,\n",
       " 'eu': -21.612747879232504,\n",
       " 'quarto': -38.68120776942926,\n",
       " 'co/7ftpimaumn': -17.61064217099156,\n",
       " 'branco😂': -8.64160314089648,\n",
       " '😫🤧😔': -12.357459639470669,\n",
       " '😭😭😭😭😭😭😭': -24.903259948655617,\n",
       " 'co/mxiw9lcrdt': -42.84483034400397,\n",
       " 'caixa': -22.253265770182207,\n",
       " 'kkk': -24.50278321224183,\n",
       " 'co/h7k0zbqoti': -18.017688699705452,\n",
       " '😂🍀': -26.792855340379116,\n",
       " 'nada': -24.62189240518941,\n",
       " 'vaiqné': -16.433816014371516,\n",
       " 'terapia': -63.83456975014921,\n",
       " 'gata': -87.93307991229406,\n",
       " 'mesmo': -16.332394827592022,\n",
       " 'conhecido': -42.32466486478753,\n",
       " '&gt': -4.844412554878033,\n",
       " 'co/chb9l2md2s': -19.012692561485714,\n",
       " 'mais': -54.83423254968933,\n",
       " 'ent…': -27.36531969907612,\n",
       " 'dá': -18.19752522925858,\n",
       " '😂😂': -18.35590978523891,\n",
       " 'msm': -37.772044502481904,\n",
       " '😒': -58.110605781625964,\n",
       " '💖': -13.889427691145526,\n",
       " 'porto': -12.735136887595115,\n",
       " 'florida': -1.1792194441186237,\n",
       " 'peito': -26.852274262519373,\n",
       " 'kkkkkk': -21.86145316690105,\n",
       " 'melhor': -21.507725405514076,\n",
       " 'cu': -88.51440497078818,\n",
       " 'feliz': -18.669448131162135,\n",
       " 'acelera': -1.1792194441186237,\n",
       " 'm': -12.563921479871897,\n",
       " 'chega': -132.26774413761282,\n",
       " 'co/livbrfvkcz': -19.133602289956258,\n",
       " 'caralho': -23.30470327970531,\n",
       " 'produto': -51.426025582093644,\n",
       " 'co/ulwhlaolbd': -26.86106050368551,\n",
       " '❤️❤️❤️': -31.684189696230675,\n",
       " 'ksksksk': -6.014086681090426,\n",
       " 'proporciona': -12.67440078570651,\n",
       " '💗': -54.702805388420295,\n",
       " 'vsf': -21.659998015846785,\n",
       " ')': -14.927306831920019,\n",
       " 'desconheço': -21.284082910949945,\n",
       " 'tbm': -5.713056685426444,\n",
       " 'kkkk': -24.8909661177793,\n",
       " 'plmdds': -24.469500013094514,\n",
       " 'tranquiliade': -23.299422245136494,\n",
       " 'co/azrvpgimhd': -76.57014511767512,\n",
       " 'gosto': -21.054602107442037,\n",
       " 'tem': -33.9172122798131,\n",
       " 'yt': -20.755589658965555,\n",
       " 'problem…': -20.384014409515345,\n",
       " 'amém': -15.305453199632991,\n",
       " 'obrigada': -21.376816983303865,\n",
       " 'socorrrro': -25.7569771824522,\n",
       " '🥺🥺🥺🥺': -10.389495871470976,\n",
       " 'co/q1dojdnfcy': -23.803567651606755,\n",
       " 'co/qapqqjzdvv': -59.90476199609287,\n",
       " 'kkkkkkk': -67.96526537753947,\n",
       " 'tristeza': -42.652155777448655,\n",
       " 'demais': -12.656354625941102,\n",
       " 'agora': -10.19492120672128,\n",
       " 'co/4oj0a7jqas': -46.55881021488269,\n",
       " '😭😭❤️❤️❤️❤️❤️': -4.513235949340948,\n",
       " 'noo': -1.8678486151164237,\n",
       " 'dogao': -18.08327363577142,\n",
       " 'fraq…': -38.95201996017432,\n",
       " 'decidindo': -33.07211608596362,\n",
       " 'né': -7.375814517108019,\n",
       " 'chatooo': -49.571854252721934,\n",
       " '🙄': -56.46117287533218,\n",
       " 'viu': -16.36372301428977,\n",
       " 'co/9unwjwoa38': -6.299257414886544,\n",
       " 'aiiii': -7.693254909843147,\n",
       " 'co/moirausgvd': -16.456288330285673,\n",
       " '😁😁': -20.74508632130868,\n",
       " '🥰🥰': -42.84687422600957,\n",
       " '🥴🥴🥴😔💕': -96.62308751733072,\n",
       " 'existe': -20.025033449586115,\n",
       " 'diabetes': -15.590455749862821,\n",
       " '👍👍👍': -49.1595665793267,\n",
       " '😭': -24.262205500632408,\n",
       " 'espinhas': -26.547553290649553,\n",
       " 'abomino': -28.776002244145253,\n",
       " 'exaltei': -134.62733394569244,\n",
       " 'co/0h90sa0leq': -54.193057542353074,\n",
       " 'chorei': -36.929801407121126,\n",
       " 'serio': -44.52605482651441,\n",
       " 'deu': -20.03783972238844,\n",
       " 'sagu': -71.49007163287537,\n",
       " 'kk': -43.07748189707585,\n",
       " 'desestressar': -7.239626406912619,\n",
       " 'infernooooo': -37.54233897545732,\n",
       " 'importa': -25.988350311178372,\n",
       " 'kakaak': -61.26384047232415,\n",
       " 'fome': -74.37684367273896,\n",
       " 'também)': -31.296299191487275,\n",
       " 'rp': -48.294746667454326,\n",
       " 'incrível': -14.340801003191903,\n",
       " 'rsrsrsrs': -70.36500108622191,\n",
       " 'bosta': -13.564819710764796,\n",
       " 'perfeita': -17.989723907562198,\n",
       " 'vsfd': -27.490394015732747,\n",
       " '💚🏁🇧🇷': -8.4655118818408,\n",
       " 'gula': -35.18709986362321,\n",
       " 'co/kxmi25zyop': -33.385716896250585,\n",
       " 'mundo': -19.107703023479562,\n",
       " 'neguinha': -15.754253178042187,\n",
       " 'respeito': -13.750998388760975,\n",
       " 'co/snk0d23xtv': -27.07394893875707,\n",
       " '😅': -37.06521046067089,\n",
       " 'n': -25.468676705773248,\n",
       " 'pf': -21.542843743899073,\n",
       " 'pr…': -60.71013722903911,\n",
       " 'comigo,…': -39.497432896345,\n",
       " 'adoro': -20.950848251031584,\n",
       " 'aaaaaaaa': -15.937694907558187,\n",
       " 'comer': -38.968473860055255,\n",
       " 'mãos': -30.48585849644312,\n",
       " '🤔': -15.506909698412747,\n",
       " '+': -83.89179265945116,\n",
       " 'skskskskskskss': 0,\n",
       " 'logo': -65.39391209049722,\n",
       " 'co/luatd2uwj3': -21.780985260070874,\n",
       " 'videos': -37.84275056130497,\n",
       " '…': -38.131477949537995,\n",
       " '🤣': -12.194528413653051,\n",
       " 'd…': -37.38400945605969,\n",
       " 'pequeninos': -33.56152905319288,\n",
       " 'co/dkdfr2yloq': -15.470763084590324,\n",
       " 'itapecerica': -58.521687915458166,\n",
       " 'pulaaaaaarrrr': -41.236862659781934,\n",
       " 'parede': -39.38365376561804,\n",
       " 'compra': -37.56058692297199,\n",
       " 'esquerdopatas': -35.16862360021535,\n",
       " 'clima': -46.882913696077296,\n",
       " 'desempregada': -18.730145971515743,\n",
       " 'doce': -102.49673207768528,\n",
       " '🥰': -28.16626334553535,\n",
       " '100forints)': -30.212445633085387,\n",
       " '🤠': -54.25420554534482,\n",
       " 'co/jhvmfmfw8r': -20.83952860221121,\n",
       " 'grafite': -31.577923558631678,\n",
       " 'mim🤤🥰💙': -20.114054373805907,\n",
       " 'propaganda': -38.58010482392406,\n",
       " 'co/qm7gosiile': -44.21101708111435,\n",
       " 'palma': -22.991431160454496,\n",
       " 'ctz': -25.60816390956152,\n",
       " 'kkkkk': -25.727132235620655,\n",
       " 'hj': -13.561160216510315,\n",
       " '😭😭😭': -22.268288643766713,\n",
       " '🤪': -38.88762598651109,\n",
       " 'armario': -38.599222994011406,\n",
       " 'relvoltei': -100.32162697093808,\n",
       " 'apetite': -74.31869835800423,\n",
       " '❤️': -13.886803547319378,\n",
       " 'agorinha': -13.831858035854857,\n",
       " 'co/antf6axl4s': -102.99197943035605,\n",
       " 'mermão': -23.30265795695769,\n",
       " '🍫': -30.689673817927726,\n",
       " 'co/oucehufvcm': -27.010090745451592,\n",
       " '😍😍': -11.557469240304478,\n",
       " 'menina': -36.44624125986112,\n",
       " 'co/byqhoresa8': -22.93685817879668,\n",
       " 'co/vsxsbxwwj8': -22.350421430215963}"
      ]
     },
<<<<<<< HEAD
     "execution_count": 23,
=======
     "execution_count": 31,
>>>>>>> 7d6475bb49b6986b495f156cfc7463a4eb500bcb
     "metadata": {},
     "output_type": "execute_result"
    }
   ],
   "source": [
    "dic_log = {}\n",
    "for frase in t_tr.Treinamento:\n",
    "    frase_d=frase.split()\n",
    "    freq_log = 0 \n",
    "    for palavra in frase_d:\n",
    "        if palavra in tabela_tweets_relativa:\n",
    "            freq_log += np.log10(tabela_tweets_relativa[palavra])\n",
    "    dic_log[palavra] = freq_log\n",
    "dic_log\n"
   ]
  },
  {
   "cell_type": "markdown",
   "metadata": {},
   "source": [
    "___\n",
    "### Verificando a performance\n",
    "\n",
    "Agora você deve testar o seu classificador com a base de Testes."
   ]
  },
  {
   "cell_type": "code",
   "execution_count": null,
   "metadata": {},
   "outputs": [],
   "source": []
  },
  {
   "cell_type": "code",
   "execution_count": null,
   "metadata": {},
   "outputs": [],
   "source": []
  },
  {
   "cell_type": "code",
   "execution_count": null,
   "metadata": {},
   "outputs": [],
   "source": []
  },
  {
   "cell_type": "markdown",
   "metadata": {},
   "source": [
    "___\n",
    "### Concluindo"
   ]
  },
  {
   "cell_type": "code",
   "execution_count": null,
   "metadata": {},
   "outputs": [],
   "source": []
  },
  {
   "cell_type": "code",
   "execution_count": null,
   "metadata": {},
   "outputs": [],
   "source": []
  },
  {
   "cell_type": "markdown",
   "metadata": {},
   "source": [
    "## Aperfeiçoamento:\n",
    "\n",
    "Os trabalhos vão evoluir em conceito dependendo da quantidade de itens avançados:\n",
    "\n",
    "* Limpar: \\n, :, \", ', (, ), etc SEM remover emojis\n",
    "* Corrigir separação de espaços entre palavras e emojis ou emojis e emojis\n",
    "* Propor outras limpezas e transformações que não afetem a qualidade da informação ou classificação\n",
    "* Criar categorias intermediárias de relevância baseadas na probabilidade: ex.: muito relevante, relevante, neutro, irrelevante, muito irrelevante (3 categorias: C, mais categorias conta para B)\n",
    "* Explicar por que não posso usar o próprio classificador para gerar mais amostras de treinamento\n",
    "* Propor diferentes cenários para Naïve Bayes fora do contexto do projeto\n",
    "* Sugerir e explicar melhorias reais com indicações concretas de como implementar (indicar como fazer e indicar material de pesquisa)\n",
    "* Montar um dashboard que periodicamente realiza análise de sentimento e visualiza estes dados"
   ]
  },
  {
   "cell_type": "markdown",
   "metadata": {},
   "source": [
    "# Referências"
   ]
  },
  {
   "cell_type": "markdown",
   "metadata": {},
   "source": [
    "[Naive Bayes and Text Classification](https://arxiv.org/pdf/1410.5329.pdf)  **Mais completo**\n",
    "\n",
    "[A practical explanation of a Naive Bayes Classifier](https://monkeylearn.com/blog/practical-explanation-naive-bayes-classifier/) **Mais simples**"
   ]
  },
  {
   "cell_type": "code",
   "execution_count": null,
   "metadata": {},
   "outputs": [],
   "source": []
  }
 ],
 "metadata": {
  "kernelspec": {
   "display_name": "Python 3",
   "language": "python",
   "name": "python3"
  },
  "language_info": {
   "codemirror_mode": {
    "name": "ipython",
    "version": 3
   },
   "file_extension": ".py",
   "mimetype": "text/x-python",
   "name": "python",
   "nbconvert_exporter": "python",
   "pygments_lexer": "ipython3",
   "version": "3.7.3"
  }
 },
 "nbformat": 4,
 "nbformat_minor": 4
}
